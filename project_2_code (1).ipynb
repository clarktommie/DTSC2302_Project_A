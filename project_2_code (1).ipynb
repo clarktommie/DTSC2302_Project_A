{
  "cells": [
    {
      "cell_type": "code",
      "execution_count": 1401,
      "metadata": {
        "id": "LdeV08DhMPhi"
      },
      "outputs": [],
      "source": [
        "import numpy as np\n",
        "import pandas as pd\n",
        "import matplotlib.pyplot as plt\n",
        "from sklearn.datasets import make_classification\n",
        "from sklearn.model_selection import train_test_split\n",
        "from sklearn.decomposition import PCA\n",
        "from sklearn.preprocessing import StandardScaler\n",
        "from sklearn.discriminant_analysis import LinearDiscriminantAnalysis, QuadraticDiscriminantAnalysis\n",
        "from sklearn.neighbors import KNeighborsClassifier\n",
        "from sklearn.metrics import confusion_matrix, accuracy_score, precision_score, recall_score, f1_score\n",
        "from sklearn.linear_model import LogisticRegression\n",
        "\n",
        "import scipy.stats as st\n",
        "import statsmodels.api as sm\n",
        "import pylab as py\n",
        "\n",
        "# here are some of the tools we will use for our analyses\n",
        "from sklearn.linear_model import LinearRegression\n",
        "from sklearn.metrics import PredictionErrorDisplay\n",
        "from sklearn.metrics import root_mean_squared_error\n",
        "from sklearn.metrics import r2_score"
      ]
    },
    {
      "cell_type": "code",
      "execution_count": 1402,
      "metadata": {
        "id": "ZMpAYdUk0jgr"
      },
      "outputs": [],
      "source": [
        "import random"
      ]
    },
    {
      "cell_type": "code",
      "execution_count": 1403,
      "metadata": {
        "id": "IHUsXr9c1aCy"
      },
      "outputs": [],
      "source": [
        "random.seed(100)"
      ]
    },
    {
      "cell_type": "code",
      "execution_count": 1404,
      "metadata": {
        "id": "Km8wT97Z_4mX"
      },
      "outputs": [],
      "source": [
        "import shap"
      ]
    },
    {
      "cell_type": "code",
      "execution_count": 1405,
      "metadata": {
        "id": "VgiwmTZ3zB1i"
      },
      "outputs": [],
      "source": [
        "from sklearn import tree\n",
        "from sklearn.tree import DecisionTreeClassifier\n",
        "from sklearn.model_selection import train_test_split\n",
        "from sklearn.metrics import confusion_matrix, accuracy_score\n",
        "\n",
        "from sklearn.svm import SVC\n",
        "from sklearn.model_selection import cross_val_score"
      ]
    },
    {
      "cell_type": "markdown",
      "metadata": {
        "id": "5gTZyIKlRJJM"
      },
      "source": []
    },
    {
      "cell_type": "code",
      "execution_count": 1406,
      "metadata": {
        "id": "X0qJv2S-osZP"
      },
      "outputs": [],
      "source": [
        "dataset = pd.read_excel(r\"C:\\Users\\ajhay\\OneDrive\\Documents\\DTSC2302\\Project final\\Final Project 2302 Data - group 13.xlsx\",na_values=['--'])\n",
        "dataset.dropna(inplace=True)"
      ]
    },
    {
      "cell_type": "code",
      "execution_count": 1407,
      "metadata": {
        "id": "YoHWbVEC4wMw"
      },
      "outputs": [],
      "source": [
        "#from google.colab import drive\n",
        "#drive.mount('/content/drive')"
      ]
    },
    {
      "cell_type": "code",
      "execution_count": 1408,
      "metadata": {
        "colab": {
          "base_uri": "https://localhost:8080/",
          "height": 226
        },
        "id": "RZFvrMZUvrWV",
        "outputId": "7a1e8e95-1b9c-4b24-cbd9-bfdac71ea9b6"
      },
      "outputs": [
        {
          "data": {
            "application/vnd.microsoft.datawrangler.viewer.v0+json": {
              "columns": [
                {
                  "name": "index",
                  "rawType": "int64",
                  "type": "integer"
                },
                {
                  "name": "NPA",
                  "rawType": "int64",
                  "type": "integer"
                },
                {
                  "name": "median_age_of_residents_2022",
                  "rawType": "float64",
                  "type": "float"
                },
                {
                  "name": "high_speed_internet_access_2022",
                  "rawType": "float64",
                  "type": "float"
                },
                {
                  "name": "employment_2022",
                  "rawType": "float64",
                  "type": "float"
                },
                {
                  "name": "single_family_housing_2022_Raw",
                  "rawType": "int64",
                  "type": "integer"
                },
                {
                  "name": "residential_occupancy_2022",
                  "rawType": "float64",
                  "type": "float"
                },
                {
                  "name": "home_ownership_2022",
                  "rawType": "float64",
                  "type": "float"
                },
                {
                  "name": "vacant_land_in_acres_2022",
                  "rawType": "int64",
                  "type": "integer"
                },
                {
                  "name": "proximity_to_public_transportation_2022",
                  "rawType": "int64",
                  "type": "integer"
                },
                {
                  "name": "street_connectivity_index_2022",
                  "rawType": "float64",
                  "type": "float"
                },
                {
                  "name": "proximity_to_school_age_care_2022",
                  "rawType": "int64",
                  "type": "integer"
                },
                {
                  "name": "proximity_to_early_care_and_education_2022",
                  "rawType": "int64",
                  "type": "integer"
                }
              ],
              "conversionMethod": "pd.DataFrame",
              "ref": "5ef79c1b-3630-4049-a00d-e7182daf118d",
              "rows": [
                [
                  "0",
                  "2",
                  "33.0",
                  "0.766",
                  "0.955",
                  "504",
                  "0.94",
                  "0.387",
                  "21",
                  "1129",
                  "1.0",
                  "1121",
                  "651"
                ],
                [
                  "1",
                  "3",
                  "31.0",
                  "0.916",
                  "0.976",
                  "1613",
                  "0.864",
                  "0.389",
                  "25",
                  "8510",
                  "2.0",
                  "6605",
                  "7502"
                ],
                [
                  "2",
                  "4",
                  "44.0",
                  "0.919",
                  "0.98",
                  "364",
                  "0.897",
                  "1.0",
                  "13",
                  "353",
                  "1.0",
                  "162",
                  "172"
                ],
                [
                  "3",
                  "5",
                  "31.0",
                  "0.639",
                  "0.847",
                  "189",
                  "0.94",
                  "0.232",
                  "36",
                  "336",
                  "1.0",
                  "346",
                  "346"
                ],
                [
                  "4",
                  "6",
                  "36.0",
                  "0.598",
                  "1.0",
                  "675",
                  "0.88",
                  "0.315",
                  "37",
                  "811",
                  "1.0",
                  "789",
                  "811"
                ]
              ],
              "shape": {
                "columns": 12,
                "rows": 5
              }
            },
            "text/html": [
              "<div>\n",
              "<style scoped>\n",
              "    .dataframe tbody tr th:only-of-type {\n",
              "        vertical-align: middle;\n",
              "    }\n",
              "\n",
              "    .dataframe tbody tr th {\n",
              "        vertical-align: top;\n",
              "    }\n",
              "\n",
              "    .dataframe thead th {\n",
              "        text-align: right;\n",
              "    }\n",
              "</style>\n",
              "<table border=\"1\" class=\"dataframe\">\n",
              "  <thead>\n",
              "    <tr style=\"text-align: right;\">\n",
              "      <th></th>\n",
              "      <th>NPA</th>\n",
              "      <th>median_age_of_residents_2022</th>\n",
              "      <th>high_speed_internet_access_2022</th>\n",
              "      <th>employment_2022</th>\n",
              "      <th>single_family_housing_2022_Raw</th>\n",
              "      <th>residential_occupancy_2022</th>\n",
              "      <th>home_ownership_2022</th>\n",
              "      <th>vacant_land_in_acres_2022</th>\n",
              "      <th>proximity_to_public_transportation_2022</th>\n",
              "      <th>street_connectivity_index_2022</th>\n",
              "      <th>proximity_to_school_age_care_2022</th>\n",
              "      <th>proximity_to_early_care_and_education_2022</th>\n",
              "    </tr>\n",
              "  </thead>\n",
              "  <tbody>\n",
              "    <tr>\n",
              "      <th>0</th>\n",
              "      <td>2</td>\n",
              "      <td>33.0</td>\n",
              "      <td>0.766</td>\n",
              "      <td>0.955</td>\n",
              "      <td>504</td>\n",
              "      <td>0.940</td>\n",
              "      <td>0.387</td>\n",
              "      <td>21</td>\n",
              "      <td>1129</td>\n",
              "      <td>1.0</td>\n",
              "      <td>1121</td>\n",
              "      <td>651</td>\n",
              "    </tr>\n",
              "    <tr>\n",
              "      <th>1</th>\n",
              "      <td>3</td>\n",
              "      <td>31.0</td>\n",
              "      <td>0.916</td>\n",
              "      <td>0.976</td>\n",
              "      <td>1613</td>\n",
              "      <td>0.864</td>\n",
              "      <td>0.389</td>\n",
              "      <td>25</td>\n",
              "      <td>8510</td>\n",
              "      <td>2.0</td>\n",
              "      <td>6605</td>\n",
              "      <td>7502</td>\n",
              "    </tr>\n",
              "    <tr>\n",
              "      <th>2</th>\n",
              "      <td>4</td>\n",
              "      <td>44.0</td>\n",
              "      <td>0.919</td>\n",
              "      <td>0.980</td>\n",
              "      <td>364</td>\n",
              "      <td>0.897</td>\n",
              "      <td>1.000</td>\n",
              "      <td>13</td>\n",
              "      <td>353</td>\n",
              "      <td>1.0</td>\n",
              "      <td>162</td>\n",
              "      <td>172</td>\n",
              "    </tr>\n",
              "    <tr>\n",
              "      <th>3</th>\n",
              "      <td>5</td>\n",
              "      <td>31.0</td>\n",
              "      <td>0.639</td>\n",
              "      <td>0.847</td>\n",
              "      <td>189</td>\n",
              "      <td>0.940</td>\n",
              "      <td>0.232</td>\n",
              "      <td>36</td>\n",
              "      <td>336</td>\n",
              "      <td>1.0</td>\n",
              "      <td>346</td>\n",
              "      <td>346</td>\n",
              "    </tr>\n",
              "    <tr>\n",
              "      <th>4</th>\n",
              "      <td>6</td>\n",
              "      <td>36.0</td>\n",
              "      <td>0.598</td>\n",
              "      <td>1.000</td>\n",
              "      <td>675</td>\n",
              "      <td>0.880</td>\n",
              "      <td>0.315</td>\n",
              "      <td>37</td>\n",
              "      <td>811</td>\n",
              "      <td>1.0</td>\n",
              "      <td>789</td>\n",
              "      <td>811</td>\n",
              "    </tr>\n",
              "  </tbody>\n",
              "</table>\n",
              "</div>"
            ],
            "text/plain": [
              "   NPA  median_age_of_residents_2022  high_speed_internet_access_2022  \\\n",
              "0    2                          33.0                            0.766   \n",
              "1    3                          31.0                            0.916   \n",
              "2    4                          44.0                            0.919   \n",
              "3    5                          31.0                            0.639   \n",
              "4    6                          36.0                            0.598   \n",
              "\n",
              "   employment_2022  single_family_housing_2022_Raw  \\\n",
              "0            0.955                             504   \n",
              "1            0.976                            1613   \n",
              "2            0.980                             364   \n",
              "3            0.847                             189   \n",
              "4            1.000                             675   \n",
              "\n",
              "   residential_occupancy_2022  home_ownership_2022  vacant_land_in_acres_2022  \\\n",
              "0                       0.940                0.387                         21   \n",
              "1                       0.864                0.389                         25   \n",
              "2                       0.897                1.000                         13   \n",
              "3                       0.940                0.232                         36   \n",
              "4                       0.880                0.315                         37   \n",
              "\n",
              "   proximity_to_public_transportation_2022  street_connectivity_index_2022  \\\n",
              "0                                     1129                             1.0   \n",
              "1                                     8510                             2.0   \n",
              "2                                      353                             1.0   \n",
              "3                                      336                             1.0   \n",
              "4                                      811                             1.0   \n",
              "\n",
              "   proximity_to_school_age_care_2022  \\\n",
              "0                               1121   \n",
              "1                               6605   \n",
              "2                                162   \n",
              "3                                346   \n",
              "4                                789   \n",
              "\n",
              "   proximity_to_early_care_and_education_2022  \n",
              "0                                         651  \n",
              "1                                        7502  \n",
              "2                                         172  \n",
              "3                                         346  \n",
              "4                                         811  "
            ]
          },
          "execution_count": 1408,
          "metadata": {},
          "output_type": "execute_result"
        }
      ],
      "source": [
        "dataset.head()"
      ]
    },
    {
      "cell_type": "code",
      "execution_count": 1409,
      "metadata": {
        "id": "6FtodSM4xIgS"
      },
      "outputs": [],
      "source": [
        "dtree_9 = DecisionTreeClassifier(max_depth=9, random_state=100)\n",
        "log_reg = LogisticRegression()\n",
        "lda = LinearDiscriminantAnalysis()\n",
        "qda = QuadraticDiscriminantAnalysis()\n",
        "svm_lin = SVC(kernel='linear')\n",
        "svm_rbf = SVC(kernel='rbf')"
      ]
    },
    {
      "cell_type": "code",
      "execution_count": 1410,
      "metadata": {
        "id": "rhrz4B6W2DIh"
      },
      "outputs": [],
      "source": [
        "scaler = StandardScaler()"
      ]
    },
    {
      "cell_type": "code",
      "execution_count": 1411,
      "metadata": {
        "id": "CWkeN4sp5pn3"
      },
      "outputs": [],
      "source": [
        "x = dataset[['high_speed_internet_access_2022','employment_2022','single_family_housing_2022_Raw','residential_occupancy_2022','home_ownership_2022','vacant_land_in_acres_2022','proximity_to_public_transportation_2022','street_connectivity_index_2022','proximity_to_school_age_care_2022','proximity_to_early_care_and_education_2022']]\n",
        "#y = dataset['median_age_of_residents_2022']\n"
      ]
    },
    {
      "cell_type": "code",
      "execution_count": 1412,
      "metadata": {},
      "outputs": [
        {
          "data": {
            "application/vnd.microsoft.datawrangler.viewer.v0+json": {
              "columns": [
                {
                  "name": "index",
                  "rawType": "int64",
                  "type": "integer"
                },
                {
                  "name": "NPA",
                  "rawType": "int64",
                  "type": "integer"
                },
                {
                  "name": "median_age_of_residents_2022",
                  "rawType": "float64",
                  "type": "float"
                },
                {
                  "name": "high_speed_internet_access_2022",
                  "rawType": "float64",
                  "type": "float"
                },
                {
                  "name": "employment_2022",
                  "rawType": "float64",
                  "type": "float"
                },
                {
                  "name": "single_family_housing_2022_Raw",
                  "rawType": "int64",
                  "type": "integer"
                },
                {
                  "name": "residential_occupancy_2022",
                  "rawType": "float64",
                  "type": "float"
                },
                {
                  "name": "home_ownership_2022",
                  "rawType": "float64",
                  "type": "float"
                },
                {
                  "name": "vacant_land_in_acres_2022",
                  "rawType": "int64",
                  "type": "integer"
                },
                {
                  "name": "proximity_to_public_transportation_2022",
                  "rawType": "int64",
                  "type": "integer"
                },
                {
                  "name": "street_connectivity_index_2022",
                  "rawType": "float64",
                  "type": "float"
                },
                {
                  "name": "proximity_to_school_age_care_2022",
                  "rawType": "int64",
                  "type": "integer"
                },
                {
                  "name": "proximity_to_early_care_and_education_2022",
                  "rawType": "int64",
                  "type": "integer"
                },
                {
                  "name": "median_age_of_residents_2022_binary",
                  "rawType": "int32",
                  "type": "integer"
                }
              ],
              "conversionMethod": "pd.DataFrame",
              "ref": "c027ae04-3d0a-4622-8acd-ee7ac0f56fb6",
              "rows": [
                [
                  "0",
                  "2",
                  "33.0",
                  "0.766",
                  "0.955",
                  "504",
                  "0.94",
                  "0.387",
                  "21",
                  "1129",
                  "1.0",
                  "1121",
                  "651",
                  "0"
                ],
                [
                  "1",
                  "3",
                  "31.0",
                  "0.916",
                  "0.976",
                  "1613",
                  "0.864",
                  "0.389",
                  "25",
                  "8510",
                  "2.0",
                  "6605",
                  "7502",
                  "0"
                ],
                [
                  "2",
                  "4",
                  "44.0",
                  "0.919",
                  "0.98",
                  "364",
                  "0.897",
                  "1.0",
                  "13",
                  "353",
                  "1.0",
                  "162",
                  "172",
                  "1"
                ],
                [
                  "3",
                  "5",
                  "31.0",
                  "0.639",
                  "0.847",
                  "189",
                  "0.94",
                  "0.232",
                  "36",
                  "336",
                  "1.0",
                  "346",
                  "346",
                  "0"
                ],
                [
                  "4",
                  "6",
                  "36.0",
                  "0.598",
                  "1.0",
                  "675",
                  "0.88",
                  "0.315",
                  "37",
                  "811",
                  "1.0",
                  "789",
                  "811",
                  "1"
                ]
              ],
              "shape": {
                "columns": 13,
                "rows": 5
              }
            },
            "text/html": [
              "<div>\n",
              "<style scoped>\n",
              "    .dataframe tbody tr th:only-of-type {\n",
              "        vertical-align: middle;\n",
              "    }\n",
              "\n",
              "    .dataframe tbody tr th {\n",
              "        vertical-align: top;\n",
              "    }\n",
              "\n",
              "    .dataframe thead th {\n",
              "        text-align: right;\n",
              "    }\n",
              "</style>\n",
              "<table border=\"1\" class=\"dataframe\">\n",
              "  <thead>\n",
              "    <tr style=\"text-align: right;\">\n",
              "      <th></th>\n",
              "      <th>NPA</th>\n",
              "      <th>median_age_of_residents_2022</th>\n",
              "      <th>high_speed_internet_access_2022</th>\n",
              "      <th>employment_2022</th>\n",
              "      <th>single_family_housing_2022_Raw</th>\n",
              "      <th>residential_occupancy_2022</th>\n",
              "      <th>home_ownership_2022</th>\n",
              "      <th>vacant_land_in_acres_2022</th>\n",
              "      <th>proximity_to_public_transportation_2022</th>\n",
              "      <th>street_connectivity_index_2022</th>\n",
              "      <th>proximity_to_school_age_care_2022</th>\n",
              "      <th>proximity_to_early_care_and_education_2022</th>\n",
              "      <th>median_age_of_residents_2022_binary</th>\n",
              "    </tr>\n",
              "  </thead>\n",
              "  <tbody>\n",
              "    <tr>\n",
              "      <th>0</th>\n",
              "      <td>2</td>\n",
              "      <td>33.0</td>\n",
              "      <td>0.766</td>\n",
              "      <td>0.955</td>\n",
              "      <td>504</td>\n",
              "      <td>0.940</td>\n",
              "      <td>0.387</td>\n",
              "      <td>21</td>\n",
              "      <td>1129</td>\n",
              "      <td>1.0</td>\n",
              "      <td>1121</td>\n",
              "      <td>651</td>\n",
              "      <td>0</td>\n",
              "    </tr>\n",
              "    <tr>\n",
              "      <th>1</th>\n",
              "      <td>3</td>\n",
              "      <td>31.0</td>\n",
              "      <td>0.916</td>\n",
              "      <td>0.976</td>\n",
              "      <td>1613</td>\n",
              "      <td>0.864</td>\n",
              "      <td>0.389</td>\n",
              "      <td>25</td>\n",
              "      <td>8510</td>\n",
              "      <td>2.0</td>\n",
              "      <td>6605</td>\n",
              "      <td>7502</td>\n",
              "      <td>0</td>\n",
              "    </tr>\n",
              "    <tr>\n",
              "      <th>2</th>\n",
              "      <td>4</td>\n",
              "      <td>44.0</td>\n",
              "      <td>0.919</td>\n",
              "      <td>0.980</td>\n",
              "      <td>364</td>\n",
              "      <td>0.897</td>\n",
              "      <td>1.000</td>\n",
              "      <td>13</td>\n",
              "      <td>353</td>\n",
              "      <td>1.0</td>\n",
              "      <td>162</td>\n",
              "      <td>172</td>\n",
              "      <td>1</td>\n",
              "    </tr>\n",
              "    <tr>\n",
              "      <th>3</th>\n",
              "      <td>5</td>\n",
              "      <td>31.0</td>\n",
              "      <td>0.639</td>\n",
              "      <td>0.847</td>\n",
              "      <td>189</td>\n",
              "      <td>0.940</td>\n",
              "      <td>0.232</td>\n",
              "      <td>36</td>\n",
              "      <td>336</td>\n",
              "      <td>1.0</td>\n",
              "      <td>346</td>\n",
              "      <td>346</td>\n",
              "      <td>0</td>\n",
              "    </tr>\n",
              "    <tr>\n",
              "      <th>4</th>\n",
              "      <td>6</td>\n",
              "      <td>36.0</td>\n",
              "      <td>0.598</td>\n",
              "      <td>1.000</td>\n",
              "      <td>675</td>\n",
              "      <td>0.880</td>\n",
              "      <td>0.315</td>\n",
              "      <td>37</td>\n",
              "      <td>811</td>\n",
              "      <td>1.0</td>\n",
              "      <td>789</td>\n",
              "      <td>811</td>\n",
              "      <td>1</td>\n",
              "    </tr>\n",
              "  </tbody>\n",
              "</table>\n",
              "</div>"
            ],
            "text/plain": [
              "   NPA  median_age_of_residents_2022  high_speed_internet_access_2022  \\\n",
              "0    2                          33.0                            0.766   \n",
              "1    3                          31.0                            0.916   \n",
              "2    4                          44.0                            0.919   \n",
              "3    5                          31.0                            0.639   \n",
              "4    6                          36.0                            0.598   \n",
              "\n",
              "   employment_2022  single_family_housing_2022_Raw  \\\n",
              "0            0.955                             504   \n",
              "1            0.976                            1613   \n",
              "2            0.980                             364   \n",
              "3            0.847                             189   \n",
              "4            1.000                             675   \n",
              "\n",
              "   residential_occupancy_2022  home_ownership_2022  vacant_land_in_acres_2022  \\\n",
              "0                       0.940                0.387                         21   \n",
              "1                       0.864                0.389                         25   \n",
              "2                       0.897                1.000                         13   \n",
              "3                       0.940                0.232                         36   \n",
              "4                       0.880                0.315                         37   \n",
              "\n",
              "   proximity_to_public_transportation_2022  street_connectivity_index_2022  \\\n",
              "0                                     1129                             1.0   \n",
              "1                                     8510                             2.0   \n",
              "2                                      353                             1.0   \n",
              "3                                      336                             1.0   \n",
              "4                                      811                             1.0   \n",
              "\n",
              "   proximity_to_school_age_care_2022  \\\n",
              "0                               1121   \n",
              "1                               6605   \n",
              "2                                162   \n",
              "3                                346   \n",
              "4                                789   \n",
              "\n",
              "   proximity_to_early_care_and_education_2022  \\\n",
              "0                                         651   \n",
              "1                                        7502   \n",
              "2                                         172   \n",
              "3                                         346   \n",
              "4                                         811   \n",
              "\n",
              "   median_age_of_residents_2022_binary  \n",
              "0                                    0  \n",
              "1                                    0  \n",
              "2                                    1  \n",
              "3                                    0  \n",
              "4                                    1  "
            ]
          },
          "execution_count": 1412,
          "metadata": {},
          "output_type": "execute_result"
        }
      ],
      "source": [
        "dataset['median_age_of_residents_2022_binary'] = (dataset['median_age_of_residents_2022'] > 35).astype(int)\n",
        "y = dataset['median_age_of_residents_2022_binary']\n",
        "\n",
        "dataset.head()"
      ]
    },
    {
      "cell_type": "code",
      "execution_count": 1413,
      "metadata": {
        "id": "rKDCwWMf8hMI"
      },
      "outputs": [],
      "source": [
        "X_train, X_test, y_train, y_test = train_test_split(x, y, test_size=0.3, random_state=100)\n",
        "\n",
        "# Standardize the dataset for models that are sensitive to feature scaling\n",
        "scaler = StandardScaler()\n",
        "X_train_scaled = scaler.fit_transform(X_train)\n",
        "X_test_scaled = scaler.transform(X_test)"
      ]
    },
    {
      "cell_type": "markdown",
      "metadata": {},
      "source": [
        "**logisitic**"
      ]
    },
    {
      "cell_type": "code",
      "execution_count": 1414,
      "metadata": {
        "colab": {
          "base_uri": "https://localhost:8080/",
          "height": 1000
        },
        "id": "wr6fYlkM_dYl",
        "outputId": "a98a5032-53dc-4f4f-fb8e-80ed4c001fd2"
      },
      "outputs": [
        {
          "data": {
            "image/png": "[encoded data removed]",
            "text/plain": [
              "<Figure size 800x550 with 2 Axes>"
            ]
          },
          "metadata": {},
          "output_type": "display_data"
        }
      ],
      "source": [
        "# shap for logistic\n",
        "\n",
        "log_reg.fit(X_train_scaled, y_train)\n",
        "\n",
        "# Create a SHAP explainer object\n",
        "explainer = shap.Explainer(log_reg, X_train_scaled)\n",
        "\n",
        "# Get SHAP values for the test set\n",
        "shap_values = explainer(X_test_scaled)\n",
        "\n",
        "# Plot the SHAP summary plot (global explanation of the model)\n",
        "shap.summary_plot(shap_values, X_test_scaled)"
      ]
    },
    {
      "cell_type": "markdown",
      "metadata": {},
      "source": [
        "**Svm lin**"
      ]
    },
    {
      "cell_type": "code",
      "execution_count": 1415,
      "metadata": {},
      "outputs": [
        {
          "name": "stdout",
          "output_type": "stream",
          "text": [
            ".values =\n",
            "array([[-1.81624000e-01,  5.98223093e-02, -8.58012989e-02, ...,\n",
            "        -2.04279586e-01, -4.20371001e-02, -1.14576493e+00],\n",
            "       [-1.12780091e-01,  3.84741418e-02,  1.13811955e-01, ...,\n",
            "         1.30391225e-02,  2.94473387e-02,  4.34069152e-01],\n",
            "       [ 9.76206626e-03,  5.98223093e-02, -2.68780584e-03, ...,\n",
            "         1.30391225e-02,  1.03218571e-02,  8.34758358e-02],\n",
            "       ...,\n",
            "       [ 3.27820925e-01,  2.78000581e-02, -4.35402007e-02, ...,\n",
            "         1.30391225e-02, -2.15539455e-02, -3.13863256e-01],\n",
            "       [-8.93731623e-02,  3.72881325e-02,  3.73193671e-02, ...,\n",
            "         1.30391225e-02,  5.82028544e-04,  1.07601850e-02],\n",
            "       [-2.00900294e-01,  4.67762070e-02,  5.81681755e-02, ...,\n",
            "         1.30391225e-02,  3.31661823e-02,  4.37531802e-01]])\n",
            "\n",
            ".base_values =\n",
            "array([0.13729307, 0.13729307, 0.13729307, 0.13729307, 0.13729307,\n",
            "       0.13729307, 0.13729307, 0.13729307, 0.13729307, 0.13729307,\n",
            "       0.13729307, 0.13729307, 0.13729307, 0.13729307, 0.13729307,\n",
            "       0.13729307, 0.13729307, 0.13729307, 0.13729307, 0.13729307,\n",
            "       0.13729307, 0.13729307, 0.13729307, 0.13729307, 0.13729307,\n",
            "       0.13729307, 0.13729307, 0.13729307, 0.13729307, 0.13729307,\n",
            "       0.13729307, 0.13729307, 0.13729307, 0.13729307, 0.13729307,\n",
            "       0.13729307, 0.13729307, 0.13729307, 0.13729307, 0.13729307,\n",
            "       0.13729307, 0.13729307, 0.13729307, 0.13729307, 0.13729307,\n",
            "       0.13729307, 0.13729307, 0.13729307, 0.13729307, 0.13729307,\n",
            "       0.13729307, 0.13729307, 0.13729307, 0.13729307, 0.13729307,\n",
            "       0.13729307, 0.13729307, 0.13729307, 0.13729307, 0.13729307,\n",
            "       0.13729307, 0.13729307, 0.13729307, 0.13729307, 0.13729307,\n",
            "       0.13729307, 0.13729307, 0.13729307, 0.13729307, 0.13729307,\n",
            "       0.13729307, 0.13729307, 0.13729307, 0.13729307, 0.13729307,\n",
            "       0.13729307, 0.13729307, 0.13729307, 0.13729307, 0.13729307,\n",
            "       0.13729307, 0.13729307, 0.13729307, 0.13729307, 0.13729307,\n",
            "       0.13729307, 0.13729307, 0.13729307, 0.13729307, 0.13729307,\n",
            "       0.13729307, 0.13729307, 0.13729307, 0.13729307, 0.13729307,\n",
            "       0.13729307, 0.13729307, 0.13729307, 0.13729307, 0.13729307,\n",
            "       0.13729307, 0.13729307, 0.13729307, 0.13729307, 0.13729307,\n",
            "       0.13729307, 0.13729307, 0.13729307, 0.13729307, 0.13729307,\n",
            "       0.13729307, 0.13729307, 0.13729307, 0.13729307, 0.13729307,\n",
            "       0.13729307, 0.13729307, 0.13729307, 0.13729307, 0.13729307,\n",
            "       0.13729307, 0.13729307, 0.13729307, 0.13729307, 0.13729307,\n",
            "       0.13729307, 0.13729307, 0.13729307, 0.13729307, 0.13729307,\n",
            "       0.13729307, 0.13729307, 0.13729307, 0.13729307, 0.13729307,\n",
            "       0.13729307, 0.13729307])\n",
            "\n",
            ".data =\n",
            "array([[ 1.09811008e+00,  9.21788932e-01, -1.23304348e+00, ...,\n",
            "         4.65985898e+00,  8.39030908e-01,  1.46559676e+00],\n",
            "       [ 7.21078610e-01,  6.06295040e-01,  1.79007972e+00, ...,\n",
            "        -2.14598769e-01, -5.66940602e-01, -5.19483104e-01],\n",
            "       [ 4.99625977e-02,  9.21788932e-01,  2.57022432e-02, ...,\n",
            "        -2.14598769e-01, -1.90776466e-01, -7.89585312e-02],\n",
            "       ...,\n",
            "       [-1.69192278e+00,  4.48548094e-01, -5.93003282e-01, ...,\n",
            "        -2.14598769e-01,  4.36163762e-01,  4.20302651e-01],\n",
            "       [ 5.92887911e-01,  5.88767602e-01,  6.31606964e-01, ...,\n",
            "        -2.14598769e-01,  7.88604060e-04,  1.24095283e-02],\n",
            "       [ 1.20367889e+00,  7.28987109e-01,  9.47360129e-01, ...,\n",
            "        -2.14598769e-01, -6.40083629e-01, -5.23833964e-01]])\n"
          ]
        },
        {
          "data": {
            "image/png": "[encoded data removed]",
            "text/plain": [
              "<Figure size 800x550 with 2 Axes>"
            ]
          },
          "metadata": {},
          "output_type": "display_data"
        }
      ],
      "source": [
        "svm_lin.fit(X_train_scaled, y_train)\n",
        "\n",
        "# Create a SHAP explainer object\n",
        "explainer = shap.Explainer(svm_lin, X_train_scaled)\n",
        "\n",
        "# Get SHAP values for the test set\n",
        "shap_values = explainer(X_test_scaled)\n",
        "print(shap_values)\n",
        "# Plot the SHAP summary plot (global explanation of the model)\n",
        "shap.summary_plot(shap_values, X_test_scaled)"
      ]
    },
    {
      "cell_type": "markdown",
      "metadata": {},
      "source": [
        "**lda**"
      ]
    },
    {
      "cell_type": "code",
      "execution_count": 1416,
      "metadata": {},
      "outputs": [
        {
          "name": "stdout",
          "output_type": "stream",
          "text": [
            ".values =\n",
            "array([[-2.80876526e-01,  1.22181533e-01, -1.13866772e-02, ...,\n",
            "        -1.77906667e-01, -3.73802621e-01, -5.05872092e-01],\n",
            "       [-1.74411312e-01,  7.85798759e-02,  1.51039671e-02, ...,\n",
            "         1.13557447e-02,  2.61851849e-01,  1.91647924e-01],\n",
            "       [ 1.50967672e-02,  1.22181533e-01, -3.56698301e-04, ...,\n",
            "         1.13557447e-02,  9.17840963e-02,  3.68558110e-02],\n",
            "       ...,\n",
            "       [ 5.06966053e-01,  5.67790472e-02, -5.77821336e-03, ...,\n",
            "         1.13557447e-02, -1.91662158e-01, -1.38575251e-01],\n",
            "       [-1.38213140e-01,  7.61575616e-02,  4.95264748e-03, ...,\n",
            "         1.13557447e-02,  5.17551864e-03,  4.75078016e-03],\n",
            "       [-3.10686786e-01,  9.55360760e-02,  7.71948965e-03, ...,\n",
            "         1.13557447e-02,  2.94920578e-01,  1.93176735e-01]])\n",
            "\n",
            ".base_values =\n",
            "array([0.12324044, 0.12324044, 0.12324044, 0.12324044, 0.12324044,\n",
            "       0.12324044, 0.12324044, 0.12324044, 0.12324044, 0.12324044,\n",
            "       0.12324044, 0.12324044, 0.12324044, 0.12324044, 0.12324044,\n",
            "       0.12324044, 0.12324044, 0.12324044, 0.12324044, 0.12324044,\n",
            "       0.12324044, 0.12324044, 0.12324044, 0.12324044, 0.12324044,\n",
            "       0.12324044, 0.12324044, 0.12324044, 0.12324044, 0.12324044,\n",
            "       0.12324044, 0.12324044, 0.12324044, 0.12324044, 0.12324044,\n",
            "       0.12324044, 0.12324044, 0.12324044, 0.12324044, 0.12324044,\n",
            "       0.12324044, 0.12324044, 0.12324044, 0.12324044, 0.12324044,\n",
            "       0.12324044, 0.12324044, 0.12324044, 0.12324044, 0.12324044,\n",
            "       0.12324044, 0.12324044, 0.12324044, 0.12324044, 0.12324044,\n",
            "       0.12324044, 0.12324044, 0.12324044, 0.12324044, 0.12324044,\n",
            "       0.12324044, 0.12324044, 0.12324044, 0.12324044, 0.12324044,\n",
            "       0.12324044, 0.12324044, 0.12324044, 0.12324044, 0.12324044,\n",
            "       0.12324044, 0.12324044, 0.12324044, 0.12324044, 0.12324044,\n",
            "       0.12324044, 0.12324044, 0.12324044, 0.12324044, 0.12324044,\n",
            "       0.12324044, 0.12324044, 0.12324044, 0.12324044, 0.12324044,\n",
            "       0.12324044, 0.12324044, 0.12324044, 0.12324044, 0.12324044,\n",
            "       0.12324044, 0.12324044, 0.12324044, 0.12324044, 0.12324044,\n",
            "       0.12324044, 0.12324044, 0.12324044, 0.12324044, 0.12324044,\n",
            "       0.12324044, 0.12324044, 0.12324044, 0.12324044, 0.12324044,\n",
            "       0.12324044, 0.12324044, 0.12324044, 0.12324044, 0.12324044,\n",
            "       0.12324044, 0.12324044, 0.12324044, 0.12324044, 0.12324044,\n",
            "       0.12324044, 0.12324044, 0.12324044, 0.12324044, 0.12324044,\n",
            "       0.12324044, 0.12324044, 0.12324044, 0.12324044, 0.12324044,\n",
            "       0.12324044, 0.12324044, 0.12324044, 0.12324044, 0.12324044,\n",
            "       0.12324044, 0.12324044, 0.12324044, 0.12324044, 0.12324044,\n",
            "       0.12324044, 0.12324044])\n",
            "\n",
            ".data =\n",
            "array([[ 1.09811008e+00,  9.21788932e-01, -1.23304348e+00, ...,\n",
            "         4.65985898e+00,  8.39030908e-01,  1.46559676e+00],\n",
            "       [ 7.21078610e-01,  6.06295040e-01,  1.79007972e+00, ...,\n",
            "        -2.14598769e-01, -5.66940602e-01, -5.19483104e-01],\n",
            "       [ 4.99625977e-02,  9.21788932e-01,  2.57022432e-02, ...,\n",
            "        -2.14598769e-01, -1.90776466e-01, -7.89585312e-02],\n",
            "       ...,\n",
            "       [-1.69192278e+00,  4.48548094e-01, -5.93003282e-01, ...,\n",
            "        -2.14598769e-01,  4.36163762e-01,  4.20302651e-01],\n",
            "       [ 5.92887911e-01,  5.88767602e-01,  6.31606964e-01, ...,\n",
            "        -2.14598769e-01,  7.88604060e-04,  1.24095283e-02],\n",
            "       [ 1.20367889e+00,  7.28987109e-01,  9.47360129e-01, ...,\n",
            "        -2.14598769e-01, -6.40083629e-01, -5.23833964e-01]])\n"
          ]
        },
        {
          "data": {
            "image/png": "[encoded data removed]",
            "text/plain": [
              "<Figure size 800x550 with 2 Axes>"
            ]
          },
          "metadata": {},
          "output_type": "display_data"
        }
      ],
      "source": [
        "lda.fit(X_train_scaled, y_train)\n",
        "\n",
        "# Create a SHAP explainer object\n",
        "explainer = shap.Explainer(lda, X_train_scaled)\n",
        "\n",
        "# Get SHAP values for the test set\n",
        "shap_values = explainer(X_test_scaled)\n",
        "print(shap_values)\n",
        "# Plot the SHAP summary plot (global explanation of the model)\n",
        "shap.summary_plot(shap_values, X_test_scaled)"
      ]
    },
    {
      "cell_type": "markdown",
      "metadata": {},
      "source": [
        "## Accuracy"
      ]
    },
    {
      "cell_type": "markdown",
      "metadata": {},
      "source": [
        "features from 0 - 9\n",
        "\n",
        "0 = high spped internet\n",
        "\n",
        "1 = employment\n",
        "\n",
        "2 = single family housing\n",
        "\n",
        "3 = residential occupancy\n",
        "\n",
        "4 = home ownership \n",
        "\n",
        "5 = vacant land in acres\n",
        "\n",
        "6 = proximity to public transportation\n",
        "\n",
        "7 = street connectivity index\n",
        "\n",
        "8 = proximity to school age care\n",
        "\n",
        "9 = proximity to early care and education"
      ]
    },
    {
      "cell_type": "code",
      "execution_count": 1417,
      "metadata": {},
      "outputs": [],
      "source": [
        "dtree_9 = DecisionTreeClassifier(max_depth=9, random_state=100)\n",
        "log_reg = LogisticRegression()\n",
        "lda = LinearDiscriminantAnalysis()\n",
        "qda = QuadraticDiscriminantAnalysis()\n",
        "svm_lin = SVC(kernel='linear')\n",
        "svm_rbf = SVC(kernel='rbf')"
      ]
    },
    {
      "cell_type": "code",
      "execution_count": 1418,
      "metadata": {},
      "outputs": [
        {
          "data": {
            "text/plain": [
              "('high_speed_internet_access_2022',\n",
              " 'employment_2022',\n",
              " 'single_family_housing_2022_Raw',\n",
              " 'residential_occupancy_2022',\n",
              " 'home_ownership_2022',\n",
              " 'vacant_land_in_acres_2022',\n",
              " 'proximity_to_public_transportation_2022',\n",
              " 'street_connectivity_index_2022',\n",
              " 'proximity_to_school_age_care_2022',\n",
              " 'proximity_to_early_care_and_education_2022')"
            ]
          },
          "execution_count": 1418,
          "metadata": {},
          "output_type": "execute_result"
        }
      ],
      "source": [
        "'high_speed_internet_access_2022','employment_2022','single_family_housing_2022_Raw','residential_occupancy_2022','home_ownership_2022','vacant_land_in_acres_2022','proximity_to_public_transportation_2022','street_connectivity_index_2022','proximity_to_school_age_care_2022','proximity_to_early_care_and_education_2022'"
      ]
    },
    {
      "cell_type": "markdown",
      "metadata": {},
      "source": [
        "logisitic"
      ]
    },
    {
      "cell_type": "code",
      "execution_count": 1419,
      "metadata": {},
      "outputs": [],
      "source": [
        "log_x = dataset[['home_ownership_2022','high_speed_internet_access_2022']]"
      ]
    },
    {
      "cell_type": "code",
      "execution_count": 1420,
      "metadata": {},
      "outputs": [
        {
          "name": "stdout",
          "output_type": "stream",
          "text": [
            "logisitic cross-validation accuracy: 72.26%\n"
          ]
        }
      ],
      "source": [
        "log_reg.fit(X_train_scaled, y_train)\n",
        "\n",
        "\n",
        "accuracy = cross_val_score(log_reg, X_test_scaled, y_test, cv = 8)\n",
        "print(f\"logisitic cross-validation accuracy: {accuracy.mean() * 100:.2f}%\")"
      ]
    },
    {
      "cell_type": "code",
      "execution_count": 1421,
      "metadata": {},
      "outputs": [
        {
          "name": "stdout",
          "output_type": "stream",
          "text": [
            "logisitic cross-validation accuracy: 76.72%\n"
          ]
        }
      ],
      "source": [
        "log_reg = LogisticRegression()\n",
        "\n",
        "\n",
        "X_train, X_test, y_train, y_test = train_test_split(log_x, y, test_size=0.3, random_state=100)\n",
        "\n",
        "# Standardize the dataset for models that are sensitive to feature scaling\n",
        "scaler = StandardScaler()\n",
        "X_train_scaled = scaler.fit_transform(X_train)\n",
        "X_test_scaled = scaler.transform(X_test)\n",
        "\n",
        "log_reg.fit(X_train_scaled, y_train)\n",
        "\n",
        "\n",
        "accuracy = cross_val_score(log_reg, X_test_scaled, y_test, cv = 8)\n",
        "print(f\"logisitic cross-validation accuracy: {accuracy.mean() * 100:.2f}%\")"
      ]
    },
    {
      "cell_type": "code",
      "execution_count": 1422,
      "metadata": {},
      "outputs": [],
      "source": [
        "log_x = dataset[['home_ownership_2022','high_speed_internet_access_2022']]\n",
        "y = dataset['median_age_of_residents_2022_binary']"
      ]
    },
    {
      "cell_type": "code",
      "execution_count": 1423,
      "metadata": {},
      "outputs": [
        {
          "name": "stdout",
          "output_type": "stream",
          "text": [
            "logisitic cross-validation accuracy: 76.72%\n"
          ]
        }
      ],
      "source": [
        "log_reg = LogisticRegression()\n",
        "\n",
        "\n",
        "X_train, X_test, y_train, y_test = train_test_split(log_x, y, test_size=0.3, random_state=100)\n",
        "\n",
        "# Standardize the dataset for models that are sensitive to feature scaling\n",
        "scaler = StandardScaler()\n",
        "X_train_scaled = scaler.fit_transform(X_train)\n",
        "X_test_scaled = scaler.transform(X_test)\n",
        "\n",
        "log_reg.fit(X_train_scaled, y_train)\n",
        "\n",
        "\n",
        "accuracy = cross_val_score(log_reg, X_test_scaled, y_test, cv = 8)\n",
        "print(f\"logisitic cross-validation accuracy: {accuracy.mean() * 100:.2f}%\")"
      ]
    },
    {
      "cell_type": "markdown",
      "metadata": {},
      "source": [
        "lda"
      ]
    },
    {
      "cell_type": "code",
      "execution_count": 1424,
      "metadata": {},
      "outputs": [],
      "source": [
        "x = dataset[['high_speed_internet_access_2022','employment_2022','single_family_housing_2022_Raw','residential_occupancy_2022','home_ownership_2022','vacant_land_in_acres_2022','proximity_to_public_transportation_2022','street_connectivity_index_2022','proximity_to_school_age_care_2022','proximity_to_early_care_and_education_2022']]\n",
        "#y = dataset['median_age_of_residents_2022']"
      ]
    },
    {
      "cell_type": "code",
      "execution_count": 1425,
      "metadata": {},
      "outputs": [
        {
          "name": "stdout",
          "output_type": "stream",
          "text": [
            "logisitic cross-validation accuracy: 72.30%\n"
          ]
        }
      ],
      "source": [
        "X_train, X_test, y_train, y_test = train_test_split(x, y, test_size=0.3, random_state=100)\n",
        "\n",
        "# Standardize the dataset for models that are sensitive to feature scaling\n",
        "scaler = StandardScaler()\n",
        "X_train_scaled = scaler.fit_transform(X_train)\n",
        "X_test_scaled = scaler.transform(X_test)\n",
        "\n",
        "lda.fit(X_train_scaled, y_train)\n",
        "\n",
        "\n",
        "accuracy = cross_val_score(lda, X_test_scaled, y_test, cv = 8)\n",
        "print(f\"logisitic cross-validation accuracy: {accuracy.mean() * 100:.2f}%\")"
      ]
    },
    {
      "cell_type": "code",
      "execution_count": 1426,
      "metadata": {},
      "outputs": [],
      "source": [
        "#lda.fit(X_train_scaled, y_train)\n",
        "\n",
        "\n",
        "#accuracy = cross_val_score(lda, X_test_scaled, y_test, cv = 8)\n",
        "#print(f\"lda cross-validation accuracy: {accuracy.mean() * 100:.2f}%\")"
      ]
    },
    {
      "cell_type": "code",
      "execution_count": 1427,
      "metadata": {},
      "outputs": [],
      "source": [
        "lda_x = dataset[['home_ownership_2022','high_speed_internet_access_2022']]"
      ]
    },
    {
      "cell_type": "code",
      "execution_count": 1428,
      "metadata": {},
      "outputs": [
        {
          "name": "stdout",
          "output_type": "stream",
          "text": [
            "logisitic cross-validation accuracy: 76.72%\n"
          ]
        }
      ],
      "source": [
        "lda = LinearDiscriminantAnalysis()\n",
        "\n",
        "\n",
        "X_train, X_test, y_train, y_test = train_test_split(lda_x, y, test_size=0.3, random_state=100)\n",
        "\n",
        "# Standardize the dataset for models that are sensitive to feature scaling\n",
        "scaler = StandardScaler()\n",
        "X_train_scaled = scaler.fit_transform(X_train)\n",
        "X_test_scaled = scaler.transform(X_test)\n",
        "\n",
        "lda.fit(X_train_scaled, y_train)\n",
        "\n",
        "\n",
        "accuracy = cross_val_score(lda, X_test_scaled, y_test, cv = 8)\n",
        "print(f\"logisitic cross-validation accuracy: {accuracy.mean() * 100:.2f}%\")"
      ]
    },
    {
      "cell_type": "code",
      "execution_count": 1429,
      "metadata": {},
      "outputs": [],
      "source": [
        "lda_x = dataset[['home_ownership_2022','high_speed_internet_access_2022','proximity_to_early_care_and_education_2022']]\n",
        "y = dataset['median_age_of_residents_2022_binary']"
      ]
    },
    {
      "cell_type": "code",
      "execution_count": 1430,
      "metadata": {},
      "outputs": [
        {
          "name": "stdout",
          "output_type": "stream",
          "text": [
            "logisitic cross-validation accuracy: 76.72%\n"
          ]
        }
      ],
      "source": [
        "lda = LinearDiscriminantAnalysis()\n",
        "\n",
        "\n",
        "X_train, X_test, y_train, y_test = train_test_split(lda_x, y, test_size=0.3, random_state=100)\n",
        "\n",
        "# Standardize the dataset for models that are sensitive to feature scaling\n",
        "scaler = StandardScaler()\n",
        "X_train_scaled = scaler.fit_transform(X_train)\n",
        "X_test_scaled = scaler.transform(X_test)\n",
        "\n",
        "lda.fit(X_train_scaled, y_train)\n",
        "\n",
        "\n",
        "accuracy = cross_val_score(lda, X_test_scaled, y_test, cv = 8)\n",
        "print(f\"logisitic cross-validation accuracy: {accuracy.mean() * 100:.2f}%\")"
      ]
    },
    {
      "cell_type": "markdown",
      "metadata": {},
      "source": [
        "**svm_lin**"
      ]
    },
    {
      "cell_type": "code",
      "execution_count": 1431,
      "metadata": {},
      "outputs": [],
      "source": [
        "x = dataset[['high_speed_internet_access_2022','employment_2022','single_family_housing_2022_Raw','residential_occupancy_2022','home_ownership_2022','vacant_land_in_acres_2022','proximity_to_public_transportation_2022','street_connectivity_index_2022','proximity_to_school_age_care_2022','proximity_to_early_care_and_education_2022']]\n"
      ]
    },
    {
      "cell_type": "code",
      "execution_count": 1432,
      "metadata": {},
      "outputs": [
        {
          "name": "stdout",
          "output_type": "stream",
          "text": [
            "svm_lin cross-validation accuracy: 72.30%\n"
          ]
        }
      ],
      "source": [
        "X_train, X_test, y_train, y_test = train_test_split(x, y, test_size=0.3, random_state=100)\n",
        "\n",
        "# Standardize the dataset for models that are sensitive to feature scaling\n",
        "scaler = StandardScaler()\n",
        "X_train_scaled = scaler.fit_transform(X_train)\n",
        "X_test_scaled = scaler.transform(X_test)\n",
        "\n",
        "\n",
        "svm_lin.fit(X_train_scaled, y_train)\n",
        "\n",
        "\n",
        "accuracy = cross_val_score(svm_lin, X_test_scaled, y_test, cv = 8)\n",
        "print(f\"svm_lin cross-validation accuracy: {accuracy.mean() * 100:.2f}%\")"
      ]
    },
    {
      "cell_type": "code",
      "execution_count": 1433,
      "metadata": {},
      "outputs": [],
      "source": [
        "svm_x = dataset[['home_ownership_2022','high_speed_internet_access_2022']]\n",
        "y = dataset['median_age_of_residents_2022_binary']"
      ]
    },
    {
      "cell_type": "code",
      "execution_count": 1434,
      "metadata": {},
      "outputs": [
        {
          "name": "stdout",
          "output_type": "stream",
          "text": [
            "logisitic cross-validation accuracy: 76.72%\n"
          ]
        }
      ],
      "source": [
        "svm_lin = LogisticRegression()\n",
        "\n",
        "\n",
        "X_train, X_test, y_train, y_test = train_test_split(svm_x, y, test_size=0.3, random_state=100)\n",
        "\n",
        "# Standardize the dataset for models that are sensitive to feature scaling\n",
        "scaler = StandardScaler()\n",
        "X_train_scaled = scaler.fit_transform(X_train)\n",
        "X_test_scaled = scaler.transform(X_test)\n",
        "\n",
        "log_reg.fit(X_train_scaled, y_train)\n",
        "\n",
        "\n",
        "accuracy = cross_val_score(svm_lin, X_test_scaled, y_test, cv = 8)\n",
        "print(f\"logisitic cross-validation accuracy: {accuracy.mean() * 100:.2f}%\")"
      ]
    },
    {
      "cell_type": "markdown",
      "metadata": {},
      "source": [
        "**QDA:**"
      ]
    },
    {
      "cell_type": "code",
      "execution_count": 1435,
      "metadata": {},
      "outputs": [],
      "source": [
        "qdaX = dataset[['high_speed_internet_access_2022','employment_2022','single_family_housing_2022_Raw','residential_occupancy_2022','home_ownership_2022','vacant_land_in_acres_2022','proximity_to_public_transportation_2022','street_connectivity_index_2022','proximity_to_school_age_care_2022','proximity_to_early_care_and_education_2022']]\n",
        "qday = dataset['median_age_of_residents_2022_binary']"
      ]
    },
    {
      "cell_type": "code",
      "execution_count": 1436,
      "metadata": {},
      "outputs": [
        {
          "name": "stdout",
          "output_type": "stream",
          "text": [
            "qda cross-validation accuracy: 67.93%\n"
          ]
        }
      ],
      "source": [
        "qda = QuadraticDiscriminantAnalysis()\n",
        "\n",
        "\n",
        "X_train, X_test, y_train, y_test = train_test_split(qdaX, qday, test_size=0.3, random_state=100)\n",
        "\n",
        "# Standardize the dataset for models that are sensitive to feature scaling\n",
        "scaler = StandardScaler()\n",
        "X_train_scaled = scaler.fit_transform(X_train)\n",
        "X_test_scaled = scaler.transform(X_test)\n",
        "\n",
        "qda.fit(X_train_scaled, y_train)\n",
        "\n",
        "\n",
        "accuracy = cross_val_score(qda, X_test_scaled, y_test, cv = 8)\n",
        "print(f\"qda cross-validation accuracy: {accuracy.mean() * 100:.2f}%\")"
      ]
    },
    {
      "cell_type": "code",
      "execution_count": 1437,
      "metadata": {},
      "outputs": [],
      "source": [
        "from sklearn.inspection import permutation_importance"
      ]
    },
    {
      "cell_type": "code",
      "execution_count": 1438,
      "metadata": {},
      "outputs": [
        {
          "name": "stdout",
          "output_type": "stream",
          "text": [
            "Feature 1: 0.002\n",
            "Feature 2: -0.012\n",
            "Feature 3: -0.023\n",
            "Feature 4: -0.007\n",
            "Feature 5: 0.140\n",
            "Feature 6: 0.001\n",
            "Feature 7: 0.008\n",
            "Feature 8: 0.012\n",
            "Feature 9: 0.013\n",
            "Feature 10: 0.062\n"
          ]
        }
      ],
      "source": [
        "qda = QuadraticDiscriminantAnalysis()\n",
        "X_train, X_test, y_train, y_test = train_test_split(qdaX, qday, test_size=0.3, random_state=100)\n",
        "\n",
        "# Standardize the dataset for models that are sensitive to feature scaling\n",
        "scaler = StandardScaler()\n",
        "X_train_scaled = scaler.fit_transform(X_train)\n",
        "X_test_scaled = scaler.transform(X_test)\n",
        "\n",
        "qda.fit(X_train_scaled, y_train)\n",
        "\n",
        "result = permutation_importance(qda, X_test_scaled, y_test, n_repeats=10, random_state=42)\n",
        "\n",
        "# Print feature importances\n",
        "for i, importance in enumerate(result.importances_mean):\n",
        "    print(f\"Feature {i+1}: {importance:.3f}\")"
      ]
    },
    {
      "cell_type": "code",
      "execution_count": 1439,
      "metadata": {},
      "outputs": [],
      "source": [
        "qdaX = dataset[['home_ownership_2022','high_speed_internet_access_2022']]\n",
        "qday = dataset['median_age_of_residents_2022_binary']\n"
      ]
    },
    {
      "cell_type": "code",
      "execution_count": 1440,
      "metadata": {},
      "outputs": [
        {
          "name": "stdout",
          "output_type": "stream",
          "text": [
            "qda cross-validation accuracy: 76.76%\n"
          ]
        }
      ],
      "source": [
        "qda = QuadraticDiscriminantAnalysis()\n",
        "\n",
        "\n",
        "X_train, X_test, y_train, y_test = train_test_split(qdaX, qday, test_size=0.3, random_state=100)\n",
        "\n",
        "# Standardize the dataset for models that are sensitive to feature scaling\n",
        "scaler = StandardScaler()\n",
        "X_train_scaled = scaler.fit_transform(X_train)\n",
        "X_test_scaled = scaler.transform(X_test)\n",
        "\n",
        "qda.fit(X_train_scaled, y_train)\n",
        "\n",
        "\n",
        "accuracy = cross_val_score(qda, X_test_scaled, y_test, cv = 8)\n",
        "print(f\"qda cross-validation accuracy: {accuracy.mean() * 100:.2f}%\")"
      ]
    },
    {
      "cell_type": "markdown",
      "metadata": {},
      "source": [
        "**SVM_RBF:**"
      ]
    },
    {
      "cell_type": "code",
      "execution_count": 1441,
      "metadata": {},
      "outputs": [],
      "source": [
        "svm_rbf_x = dataset[['high_speed_internet_access_2022','employment_2022','single_family_housing_2022_Raw','residential_occupancy_2022','home_ownership_2022','vacant_land_in_acres_2022','proximity_to_public_transportation_2022','street_connectivity_index_2022','proximity_to_school_age_care_2022','proximity_to_early_care_and_education_2022']]\n",
        "svm_rbf_y = dataset['median_age_of_residents_2022_binary']"
      ]
    },
    {
      "cell_type": "code",
      "execution_count": 1442,
      "metadata": {},
      "outputs": [
        {
          "name": "stdout",
          "output_type": "stream",
          "text": [
            "SVM RBF cross-validation accuracy: 71.57%\n"
          ]
        }
      ],
      "source": [
        "svm_rbf = SVC(kernel='rbf')\n",
        "\n",
        "X_train, X_test, y_train, y_test = train_test_split(svm_rbf_x, svm_rbf_y, test_size=0.3, random_state=100)\n",
        "\n",
        "# Standardize the dataset for models that are sensitive to feature scaling\n",
        "scaler = StandardScaler()\n",
        "X_train_scaled = scaler.fit_transform(X_train)\n",
        "X_test_scaled = scaler.transform(X_test)\n",
        "\n",
        "svm_rbf.fit(X_train_scaled, y_train)\n",
        "\n",
        "\n",
        "accuracy = cross_val_score(svm_rbf, X_test_scaled, y_test, cv = 8)\n",
        "print(f\"SVM RBF cross-validation accuracy: {accuracy.mean() * 100:.2f}%\")"
      ]
    },
    {
      "cell_type": "code",
      "execution_count": 1443,
      "metadata": {},
      "outputs": [
        {
          "name": "stdout",
          "output_type": "stream",
          "text": [
            "Feature 1: -0.019\n",
            "Feature 2: -0.002\n",
            "Feature 3: 0.031\n",
            "Feature 4: -0.016\n",
            "Feature 5: 0.139\n",
            "Feature 6: 0.009\n",
            "Feature 7: 0.010\n",
            "Feature 8: -0.004\n",
            "Feature 9: -0.020\n",
            "Feature 10: -0.018\n"
          ]
        }
      ],
      "source": [
        "svm_rbf = SVC(kernel='rbf')\n",
        "\n",
        "X_train, X_test, y_train, y_test = train_test_split(svm_rbf_x, svm_rbf_y, test_size=0.3, random_state=100)\n",
        "\n",
        "# Standardize the dataset for models that are sensitive to feature scaling\n",
        "scaler = StandardScaler()\n",
        "X_train_scaled = scaler.fit_transform(X_train)\n",
        "X_test_scaled = scaler.transform(X_test)\n",
        "\n",
        "svm_rbf.fit(X_train_scaled, y_train)\n",
        "\n",
        "result = permutation_importance(svm_rbf, X_test_scaled, y_test, n_repeats=10, random_state=42)\n",
        "\n",
        "# Print feature importances\n",
        "for i, importance in enumerate(result.importances_mean):\n",
        "    print(f\"Feature {i+1}: {importance:.3f}\")"
      ]
    },
    {
      "cell_type": "code",
      "execution_count": 1444,
      "metadata": {},
      "outputs": [],
      "source": [
        "svm_rbf_x = dataset[['high_speed_internet_access_2022','home_ownership_2022','proximity_to_public_transportation_2022']]\n",
        "svm_rbf_y = dataset['median_age_of_residents_2022_binary']"
      ]
    },
    {
      "cell_type": "code",
      "execution_count": 1445,
      "metadata": {},
      "outputs": [
        {
          "name": "stdout",
          "output_type": "stream",
          "text": [
            "SVM RBF cross-validation accuracy: 75.29%\n"
          ]
        }
      ],
      "source": [
        "svm_rbf = SVC(kernel='rbf')\n",
        "\n",
        "X_train, X_test, y_train, y_test = train_test_split(svm_rbf_x, svm_rbf_y, test_size=0.3, random_state=100)\n",
        "\n",
        "# Standardize the dataset for models that are sensitive to feature scaling\n",
        "scaler = StandardScaler()\n",
        "X_train_scaled = scaler.fit_transform(X_train)\n",
        "X_test_scaled = scaler.transform(X_test)\n",
        "\n",
        "svm_rbf.fit(X_train_scaled, y_train)\n",
        "\n",
        "\n",
        "accuracy = cross_val_score(svm_rbf, X_test_scaled, y_test, cv = 8)\n",
        "print(f\"SVM RBF cross-validation accuracy: {accuracy.mean() * 100:.2f}%\")"
      ]
    },
    {
      "cell_type": "markdown",
      "metadata": {},
      "source": [
        "**Decision Tree**"
      ]
    },
    {
      "cell_type": "code",
      "execution_count": 1446,
      "metadata": {},
      "outputs": [],
      "source": [
        "dtreex = dataset[['high_speed_internet_access_2022','employment_2022','single_family_housing_2022_Raw','residential_occupancy_2022','home_ownership_2022','vacant_land_in_acres_2022','proximity_to_public_transportation_2022','street_connectivity_index_2022','proximity_to_school_age_care_2022','proximity_to_early_care_and_education_2022']]\n",
        "dtreey = dataset['median_age_of_residents_2022_binary']\n"
      ]
    },
    {
      "cell_type": "code",
      "execution_count": 1447,
      "metadata": {},
      "outputs": [
        {
          "name": "stdout",
          "output_type": "stream",
          "text": [
            "SVM RBF cross-validation accuracy: 65.77%\n"
          ]
        }
      ],
      "source": [
        "dtree_9 = DecisionTreeClassifier(max_depth=4, random_state=100)\n",
        "\n",
        "X_train, X_test, y_train, y_test = train_test_split(dtreex, dtreey, test_size=0.3, random_state=100)\n",
        "\n",
        "# Standardize the dataset for models that are sensitive to feature scaling\n",
        "scaler = StandardScaler()\n",
        "X_train_scaled = scaler.fit_transform(X_train)\n",
        "X_test_scaled = scaler.transform(X_test)\n",
        "\n",
        "dtree_9.fit(X_train_scaled, y_train)\n",
        "\n",
        "\n",
        "accuracy = cross_val_score(dtree_9, X_test_scaled, y_test, cv = 8)\n",
        "print(f\"SVM RBF cross-validation accuracy: {accuracy.mean() * 100:.2f}%\")"
      ]
    },
    {
      "cell_type": "code",
      "execution_count": 1448,
      "metadata": {},
      "outputs": [
        {
          "name": "stdout",
          "output_type": "stream",
          "text": [
            "Feature 1: 0.000\n",
            "Feature 2: 0.000\n",
            "Feature 3: 0.000\n",
            "Feature 4: 0.000\n",
            "Feature 5: 0.235\n",
            "Feature 6: 0.000\n",
            "Feature 7: 0.000\n",
            "Feature 8: 0.000\n",
            "Feature 9: 0.000\n",
            "Feature 10: 0.000\n"
          ]
        }
      ],
      "source": [
        "dtree_9 = DecisionTreeClassifier(max_depth=2, random_state=100)\n",
        "\n",
        "X_train, X_test, y_train, y_test = train_test_split(dtreex, dtreey, test_size=0.3, random_state=100)\n",
        "\n",
        "# Standardize the dataset for models that are sensitive to feature scaling\n",
        "scaler = StandardScaler()\n",
        "X_train_scaled = scaler.fit_transform(X_train)\n",
        "X_test_scaled = scaler.transform(X_test)\n",
        "\n",
        "dtree_9.fit(X_train_scaled, y_train)\n",
        "\n",
        "result = permutation_importance(dtree_9, X_test_scaled, y_test, n_repeats=10, random_state=42)\n",
        "\n",
        "# Print feature importances\n",
        "for i, importance in enumerate(result.importances_mean):\n",
        "    print(f\"Feature {i+1}: {importance:.3f}\")"
      ]
    },
    {
      "cell_type": "code",
      "execution_count": 1449,
      "metadata": {},
      "outputs": [],
      "source": [
        "dtreex = dataset[['home_ownership_2022']]\n",
        "dtreey = dataset['median_age_of_residents_2022_binary']"
      ]
    },
    {
      "cell_type": "code",
      "execution_count": 1450,
      "metadata": {},
      "outputs": [
        {
          "name": "stdout",
          "output_type": "stream",
          "text": [
            "SVM RBF cross-validation accuracy: 76.76%\n"
          ]
        }
      ],
      "source": [
        "dtree_9 = DecisionTreeClassifier(max_depth=2, random_state=100)\n",
        "\n",
        "X_train, X_test, y_train, y_test = train_test_split(dtreex, dtreey, test_size=0.3, random_state=100)\n",
        "\n",
        "# Standardize the dataset for models that are sensitive to feature scaling\n",
        "scaler = StandardScaler()\n",
        "X_train_scaled = scaler.fit_transform(X_train)\n",
        "X_test_scaled = scaler.transform(X_test)\n",
        "\n",
        "dtree_9.fit(X_train_scaled, y_train)\n",
        "\n",
        "\n",
        "accuracy = cross_val_score(dtree_9, X_test_scaled, y_test, cv = 8)\n",
        "print(f\"SVM RBF cross-validation accuracy: {accuracy.mean() * 100:.2f}%\")"
      ]
    },
    {
      "cell_type": "markdown",
      "metadata": {},
      "source": [
        "**KNN:**"
      ]
    },
    {
      "cell_type": "code",
      "execution_count": 1451,
      "metadata": {},
      "outputs": [],
      "source": [
        "knn_x = dataset[['high_speed_internet_access_2022','employment_2022','single_family_housing_2022_Raw','residential_occupancy_2022','home_ownership_2022','vacant_land_in_acres_2022','proximity_to_public_transportation_2022','street_connectivity_index_2022','proximity_to_school_age_care_2022','proximity_to_early_care_and_education_2022']]\n",
        "knn_y = dataset['median_age_of_residents_2022_binary']"
      ]
    },
    {
      "cell_type": "code",
      "execution_count": 1452,
      "metadata": {},
      "outputs": [
        {
          "name": "stdout",
          "output_type": "stream",
          "text": [
            "KNN cross-validation accuracy: 68.71%\n"
          ]
        }
      ],
      "source": [
        "knn = KNeighborsClassifier(n_neighbors=7)\n",
        "\n",
        "X_train, X_test, y_train, y_test = train_test_split(knn_x, knn_y, test_size=0.3, random_state=100)\n",
        "\n",
        "# Standardize the dataset for models that are sensitive to feature scaling\n",
        "scaler = StandardScaler()\n",
        "X_train_scaled = scaler.fit_transform(X_train)\n",
        "X_test_scaled = scaler.transform(X_test)\n",
        "\n",
        "knn.fit(X_train_scaled, y_train)\n",
        "\n",
        "\n",
        "accuracy = cross_val_score(knn, X_test_scaled, y_test, cv = 8)\n",
        "print(f\"KNN cross-validation accuracy: {accuracy.mean() * 100:.2f}%\")"
      ]
    },
    {
      "cell_type": "code",
      "execution_count": 1453,
      "metadata": {},
      "outputs": [
        {
          "name": "stdout",
          "output_type": "stream",
          "text": [
            "Feature 1: 0.006\n",
            "Feature 2: 0.004\n",
            "Feature 3: 0.031\n",
            "Feature 4: -0.001\n",
            "Feature 5: 0.129\n",
            "Feature 6: 0.001\n",
            "Feature 7: 0.007\n",
            "Feature 8: -0.004\n",
            "Feature 9: -0.009\n",
            "Feature 10: 0.001\n"
          ]
        }
      ],
      "source": [
        "knn = KNeighborsClassifier(n_neighbors=15)\n",
        "\n",
        "X_train, X_test, y_train, y_test = train_test_split(knn_x, knn_y, test_size=0.3, random_state=100)\n",
        "\n",
        "# Standardize the dataset for models that are sensitive to feature scaling\n",
        "scaler = StandardScaler()\n",
        "X_train_scaled = scaler.fit_transform(X_train)\n",
        "X_test_scaled = scaler.transform(X_test)\n",
        "\n",
        "knn.fit(X_train_scaled, y_train)\n",
        "\n",
        "result = permutation_importance(knn, X_test_scaled, y_test, n_repeats=10, random_state=42)\n",
        "\n",
        "# Print feature importances\n",
        "for i, importance in enumerate(result.importances_mean):\n",
        "    print(f\"Feature {i+1}: {importance:.3f}\")"
      ]
    },
    {
      "cell_type": "code",
      "execution_count": 1454,
      "metadata": {},
      "outputs": [],
      "source": [
        "knn_x = dataset[['high_speed_internet_access_2022','employment_2022','single_family_housing_2022_Raw','residential_occupancy_2022','home_ownership_2022','street_connectivity_index_2022','proximity_to_school_age_care_2022','proximity_to_early_care_and_education_2022']]\n",
        "knn_y = dataset['median_age_of_residents_2022_binary']"
      ]
    },
    {
      "cell_type": "code",
      "execution_count": 1455,
      "metadata": {},
      "outputs": [],
      "source": [
        "knn_x = dataset[['high_speed_internet_access_2022','home_ownership_2022']]\n",
        "knn_y = dataset['median_age_of_residents_2022_binary']"
      ]
    },
    {
      "cell_type": "code",
      "execution_count": 1456,
      "metadata": {},
      "outputs": [
        {
          "name": "stdout",
          "output_type": "stream",
          "text": [
            "KNN cross-validation accuracy: 78.92%\n"
          ]
        }
      ],
      "source": [
        "knn = KNeighborsClassifier(n_neighbors=15)\n",
        "\n",
        "X_train, X_test, y_train, y_test = train_test_split(knn_x, knn_y, test_size=0.3, random_state=100)\n",
        "\n",
        "# Standardize the dataset for models that are sensitive to feature scaling\n",
        "scaler = StandardScaler()\n",
        "X_train_scaled = scaler.fit_transform(X_train)\n",
        "X_test_scaled = scaler.transform(X_test)\n",
        "\n",
        "knn.fit(X_train_scaled, y_train)\n",
        "\n",
        "\n",
        "accuracy = cross_val_score(knn, X_test_scaled, y_test, cv = 8)\n",
        "print(f\"KNN cross-validation accuracy: {accuracy.mean() * 100:.2f}%\")"
      ]
    },
    {
      "cell_type": "code",
      "execution_count": 1457,
      "metadata": {},
      "outputs": [],
      "source": [
        "knn_x = dataset[['high_speed_internet_access_2022','home_ownership_2022']]\n",
        "knn_y = dataset['median_age_of_residents_2022_binary']"
      ]
    },
    {
      "cell_type": "code",
      "execution_count": 1458,
      "metadata": {},
      "outputs": [
        {
          "name": "stdout",
          "output_type": "stream",
          "text": [
            "KNN cross-validation accuracy: 78.92%\n"
          ]
        }
      ],
      "source": [
        "knn = KNeighborsClassifier(n_neighbors=15)\n",
        "\n",
        "X_train, X_test, y_train, y_test = train_test_split(knn_x, knn_y, test_size=0.3, random_state=100)\n",
        "\n",
        "# Standardize the dataset for models that are sensitive to feature scaling\n",
        "scaler = StandardScaler()\n",
        "X_train_scaled = scaler.fit_transform(X_train)\n",
        "X_test_scaled = scaler.transform(X_test)\n",
        "\n",
        "knn.fit(X_train_scaled, y_train)\n",
        "\n",
        "\n",
        "accuracy = cross_val_score(knn, X_test_scaled, y_test, cv = 8)\n",
        "print(f\"KNN cross-validation accuracy: {accuracy.mean() * 100:.2f}%\")"
      ]
    },
    {
      "cell_type": "code",
      "execution_count": 1459,
      "metadata": {},
      "outputs": [
        {
          "data": {
            "text/html": [
              "<style>#sk-container-id-19 {\n",
              "  /* Definition of color scheme common for light and dark mode */\n",
              "  --sklearn-color-text: black;\n",
              "  --sklearn-color-line: gray;\n",
              "  /* Definition of color scheme for unfitted estimators */\n",
              "  --sklearn-color-unfitted-level-0: #fff5e6;\n",
              "  --sklearn-color-unfitted-level-1: #f6e4d2;\n",
              "  --sklearn-color-unfitted-level-2: #ffe0b3;\n",
              "  --sklearn-color-unfitted-level-3: chocolate;\n",
              "  /* Definition of color scheme for fitted estimators */\n",
              "  --sklearn-color-fitted-level-0: #f0f8ff;\n",
              "  --sklearn-color-fitted-level-1: #d4ebff;\n",
              "  --sklearn-color-fitted-level-2: #b3dbfd;\n",
              "  --sklearn-color-fitted-level-3: cornflowerblue;\n",
              "\n",
              "  /* Specific color for light theme */\n",
              "  --sklearn-color-text-on-default-background: var(--sg-text-color, var(--theme-code-foreground, var(--jp-content-font-color1, black)));\n",
              "  --sklearn-color-background: var(--sg-background-color, var(--theme-background, var(--jp-layout-color0, white)));\n",
              "  --sklearn-color-border-box: var(--sg-text-color, var(--theme-code-foreground, var(--jp-content-font-color1, black)));\n",
              "  --sklearn-color-icon: #696969;\n",
              "\n",
              "  @media (prefers-color-scheme: dark) {\n",
              "    /* Redefinition of color scheme for dark theme */\n",
              "    --sklearn-color-text-on-default-background: var(--sg-text-color, var(--theme-code-foreground, var(--jp-content-font-color1, white)));\n",
              "    --sklearn-color-background: var(--sg-background-color, var(--theme-background, var(--jp-layout-color0, #111)));\n",
              "    --sklearn-color-border-box: var(--sg-text-color, var(--theme-code-foreground, var(--jp-content-font-color1, white)));\n",
              "    --sklearn-color-icon: #878787;\n",
              "  }\n",
              "}\n",
              "\n",
              "#sk-container-id-19 {\n",
              "  color: var(--sklearn-color-text);\n",
              "}\n",
              "\n",
              "#sk-container-id-19 pre {\n",
              "  padding: 0;\n",
              "}\n",
              "\n",
              "#sk-container-id-19 input.sk-hidden--visually {\n",
              "  border: 0;\n",
              "  clip: rect(1px 1px 1px 1px);\n",
              "  clip: rect(1px, 1px, 1px, 1px);\n",
              "  height: 1px;\n",
              "  margin: -1px;\n",
              "  overflow: hidden;\n",
              "  padding: 0;\n",
              "  position: absolute;\n",
              "  width: 1px;\n",
              "}\n",
              "\n",
              "#sk-container-id-19 div.sk-dashed-wrapped {\n",
              "  border: 1px dashed var(--sklearn-color-line);\n",
              "  margin: 0 0.4em 0.5em 0.4em;\n",
              "  box-sizing: border-box;\n",
              "  padding-bottom: 0.4em;\n",
              "  background-color: var(--sklearn-color-background);\n",
              "}\n",
              "\n",
              "#sk-container-id-19 div.sk-container {\n",
              "  /* jupyter's `normalize.less` sets `[hidden] { display: none; }`\n",
              "     but bootstrap.min.css set `[hidden] { display: none !important; }`\n",
              "     so we also need the `!important` here to be able to override the\n",
              "     default hidden behavior on the sphinx rendered scikit-learn.org.\n",
              "     See: https://github.com/scikit-learn/scikit-learn/issues/21755 */\n",
              "  display: inline-block !important;\n",
              "  position: relative;\n",
              "}\n",
              "\n",
              "#sk-container-id-19 div.sk-text-repr-fallback {\n",
              "  display: none;\n",
              "}\n",
              "\n",
              "div.sk-parallel-item,\n",
              "div.sk-serial,\n",
              "div.sk-item {\n",
              "  /* draw centered vertical line to link estimators */\n",
              "  background-image: linear-gradient(var(--sklearn-color-text-on-default-background), var(--sklearn-color-text-on-default-background));\n",
              "  background-size: 2px 100%;\n",
              "  background-repeat: no-repeat;\n",
              "  background-position: center center;\n",
              "}\n",
              "\n",
              "/* Parallel-specific style estimator block */\n",
              "\n",
              "#sk-container-id-19 div.sk-parallel-item::after {\n",
              "  content: \"\";\n",
              "  width: 100%;\n",
              "  border-bottom: 2px solid var(--sklearn-color-text-on-default-background);\n",
              "  flex-grow: 1;\n",
              "}\n",
              "\n",
              "#sk-container-id-19 div.sk-parallel {\n",
              "  display: flex;\n",
              "  align-items: stretch;\n",
              "  justify-content: center;\n",
              "  background-color: var(--sklearn-color-background);\n",
              "  position: relative;\n",
              "}\n",
              "\n",
              "#sk-container-id-19 div.sk-parallel-item {\n",
              "  display: flex;\n",
              "  flex-direction: column;\n",
              "}\n",
              "\n",
              "#sk-container-id-19 div.sk-parallel-item:first-child::after {\n",
              "  align-self: flex-end;\n",
              "  width: 50%;\n",
              "}\n",
              "\n",
              "#sk-container-id-19 div.sk-parallel-item:last-child::after {\n",
              "  align-self: flex-start;\n",
              "  width: 50%;\n",
              "}\n",
              "\n",
              "#sk-container-id-19 div.sk-parallel-item:only-child::after {\n",
              "  width: 0;\n",
              "}\n",
              "\n",
              "/* Serial-specific style estimator block */\n",
              "\n",
              "#sk-container-id-19 div.sk-serial {\n",
              "  display: flex;\n",
              "  flex-direction: column;\n",
              "  align-items: center;\n",
              "  background-color: var(--sklearn-color-background);\n",
              "  padding-right: 1em;\n",
              "  padding-left: 1em;\n",
              "}\n",
              "\n",
              "\n",
              "/* Toggleable style: style used for estimator/Pipeline/ColumnTransformer box that is\n",
              "clickable and can be expanded/collapsed.\n",
              "- Pipeline and ColumnTransformer use this feature and define the default style\n",
              "- Estimators will overwrite some part of the style using the `sk-estimator` class\n",
              "*/\n",
              "\n",
              "/* Pipeline and ColumnTransformer style (default) */\n",
              "\n",
              "#sk-container-id-19 div.sk-toggleable {\n",
              "  /* Default theme specific background. It is overwritten whether we have a\n",
              "  specific estimator or a Pipeline/ColumnTransformer */\n",
              "  background-color: var(--sklearn-color-background);\n",
              "}\n",
              "\n",
              "/* Toggleable label */\n",
              "#sk-container-id-19 label.sk-toggleable__label {\n",
              "  cursor: pointer;\n",
              "  display: block;\n",
              "  width: 100%;\n",
              "  margin-bottom: 0;\n",
              "  padding: 0.5em;\n",
              "  box-sizing: border-box;\n",
              "  text-align: center;\n",
              "}\n",
              "\n",
              "#sk-container-id-19 label.sk-toggleable__label-arrow:before {\n",
              "  /* Arrow on the left of the label */\n",
              "  content: \"▸\";\n",
              "  float: left;\n",
              "  margin-right: 0.25em;\n",
              "  color: var(--sklearn-color-icon);\n",
              "}\n",
              "\n",
              "#sk-container-id-19 label.sk-toggleable__label-arrow:hover:before {\n",
              "  color: var(--sklearn-color-text);\n",
              "}\n",
              "\n",
              "/* Toggleable content - dropdown */\n",
              "\n",
              "#sk-container-id-19 div.sk-toggleable__content {\n",
              "  max-height: 0;\n",
              "  max-width: 0;\n",
              "  overflow: hidden;\n",
              "  text-align: left;\n",
              "  /* unfitted */\n",
              "  background-color: var(--sklearn-color-unfitted-level-0);\n",
              "}\n",
              "\n",
              "#sk-container-id-19 div.sk-toggleable__content.fitted {\n",
              "  /* fitted */\n",
              "  background-color: var(--sklearn-color-fitted-level-0);\n",
              "}\n",
              "\n",
              "#sk-container-id-19 div.sk-toggleable__content pre {\n",
              "  margin: 0.2em;\n",
              "  border-radius: 0.25em;\n",
              "  color: var(--sklearn-color-text);\n",
              "  /* unfitted */\n",
              "  background-color: var(--sklearn-color-unfitted-level-0);\n",
              "}\n",
              "\n",
              "#sk-container-id-19 div.sk-toggleable__content.fitted pre {\n",
              "  /* unfitted */\n",
              "  background-color: var(--sklearn-color-fitted-level-0);\n",
              "}\n",
              "\n",
              "#sk-container-id-19 input.sk-toggleable__control:checked~div.sk-toggleable__content {\n",
              "  /* Expand drop-down */\n",
              "  max-height: 200px;\n",
              "  max-width: 100%;\n",
              "  overflow: auto;\n",
              "}\n",
              "\n",
              "#sk-container-id-19 input.sk-toggleable__control:checked~label.sk-toggleable__label-arrow:before {\n",
              "  content: \"▾\";\n",
              "}\n",
              "\n",
              "/* Pipeline/ColumnTransformer-specific style */\n",
              "\n",
              "#sk-container-id-19 div.sk-label input.sk-toggleable__control:checked~label.sk-toggleable__label {\n",
              "  color: var(--sklearn-color-text);\n",
              "  background-color: var(--sklearn-color-unfitted-level-2);\n",
              "}\n",
              "\n",
              "#sk-container-id-19 div.sk-label.fitted input.sk-toggleable__control:checked~label.sk-toggleable__label {\n",
              "  background-color: var(--sklearn-color-fitted-level-2);\n",
              "}\n",
              "\n",
              "/* Estimator-specific style */\n",
              "\n",
              "/* Colorize estimator box */\n",
              "#sk-container-id-19 div.sk-estimator input.sk-toggleable__control:checked~label.sk-toggleable__label {\n",
              "  /* unfitted */\n",
              "  background-color: var(--sklearn-color-unfitted-level-2);\n",
              "}\n",
              "\n",
              "#sk-container-id-19 div.sk-estimator.fitted input.sk-toggleable__control:checked~label.sk-toggleable__label {\n",
              "  /* fitted */\n",
              "  background-color: var(--sklearn-color-fitted-level-2);\n",
              "}\n",
              "\n",
              "#sk-container-id-19 div.sk-label label.sk-toggleable__label,\n",
              "#sk-container-id-19 div.sk-label label {\n",
              "  /* The background is the default theme color */\n",
              "  color: var(--sklearn-color-text-on-default-background);\n",
              "}\n",
              "\n",
              "/* On hover, darken the color of the background */\n",
              "#sk-container-id-19 div.sk-label:hover label.sk-toggleable__label {\n",
              "  color: var(--sklearn-color-text);\n",
              "  background-color: var(--sklearn-color-unfitted-level-2);\n",
              "}\n",
              "\n",
              "/* Label box, darken color on hover, fitted */\n",
              "#sk-container-id-19 div.sk-label.fitted:hover label.sk-toggleable__label.fitted {\n",
              "  color: var(--sklearn-color-text);\n",
              "  background-color: var(--sklearn-color-fitted-level-2);\n",
              "}\n",
              "\n",
              "/* Estimator label */\n",
              "\n",
              "#sk-container-id-19 div.sk-label label {\n",
              "  font-family: monospace;\n",
              "  font-weight: bold;\n",
              "  display: inline-block;\n",
              "  line-height: 1.2em;\n",
              "}\n",
              "\n",
              "#sk-container-id-19 div.sk-label-container {\n",
              "  text-align: center;\n",
              "}\n",
              "\n",
              "/* Estimator-specific */\n",
              "#sk-container-id-19 div.sk-estimator {\n",
              "  font-family: monospace;\n",
              "  border: 1px dotted var(--sklearn-color-border-box);\n",
              "  border-radius: 0.25em;\n",
              "  box-sizing: border-box;\n",
              "  margin-bottom: 0.5em;\n",
              "  /* unfitted */\n",
              "  background-color: var(--sklearn-color-unfitted-level-0);\n",
              "}\n",
              "\n",
              "#sk-container-id-19 div.sk-estimator.fitted {\n",
              "  /* fitted */\n",
              "  background-color: var(--sklearn-color-fitted-level-0);\n",
              "}\n",
              "\n",
              "/* on hover */\n",
              "#sk-container-id-19 div.sk-estimator:hover {\n",
              "  /* unfitted */\n",
              "  background-color: var(--sklearn-color-unfitted-level-2);\n",
              "}\n",
              "\n",
              "#sk-container-id-19 div.sk-estimator.fitted:hover {\n",
              "  /* fitted */\n",
              "  background-color: var(--sklearn-color-fitted-level-2);\n",
              "}\n",
              "\n",
              "/* Specification for estimator info (e.g. \"i\" and \"?\") */\n",
              "\n",
              "/* Common style for \"i\" and \"?\" */\n",
              "\n",
              ".sk-estimator-doc-link,\n",
              "a:link.sk-estimator-doc-link,\n",
              "a:visited.sk-estimator-doc-link {\n",
              "  float: right;\n",
              "  font-size: smaller;\n",
              "  line-height: 1em;\n",
              "  font-family: monospace;\n",
              "  background-color: var(--sklearn-color-background);\n",
              "  border-radius: 1em;\n",
              "  height: 1em;\n",
              "  width: 1em;\n",
              "  text-decoration: none !important;\n",
              "  margin-left: 1ex;\n",
              "  /* unfitted */\n",
              "  border: var(--sklearn-color-unfitted-level-1) 1pt solid;\n",
              "  color: var(--sklearn-color-unfitted-level-1);\n",
              "}\n",
              "\n",
              ".sk-estimator-doc-link.fitted,\n",
              "a:link.sk-estimator-doc-link.fitted,\n",
              "a:visited.sk-estimator-doc-link.fitted {\n",
              "  /* fitted */\n",
              "  border: var(--sklearn-color-fitted-level-1) 1pt solid;\n",
              "  color: var(--sklearn-color-fitted-level-1);\n",
              "}\n",
              "\n",
              "/* On hover */\n",
              "div.sk-estimator:hover .sk-estimator-doc-link:hover,\n",
              ".sk-estimator-doc-link:hover,\n",
              "div.sk-label-container:hover .sk-estimator-doc-link:hover,\n",
              ".sk-estimator-doc-link:hover {\n",
              "  /* unfitted */\n",
              "  background-color: var(--sklearn-color-unfitted-level-3);\n",
              "  color: var(--sklearn-color-background);\n",
              "  text-decoration: none;\n",
              "}\n",
              "\n",
              "div.sk-estimator.fitted:hover .sk-estimator-doc-link.fitted:hover,\n",
              ".sk-estimator-doc-link.fitted:hover,\n",
              "div.sk-label-container:hover .sk-estimator-doc-link.fitted:hover,\n",
              ".sk-estimator-doc-link.fitted:hover {\n",
              "  /* fitted */\n",
              "  background-color: var(--sklearn-color-fitted-level-3);\n",
              "  color: var(--sklearn-color-background);\n",
              "  text-decoration: none;\n",
              "}\n",
              "\n",
              "/* Span, style for the box shown on hovering the info icon */\n",
              ".sk-estimator-doc-link span {\n",
              "  display: none;\n",
              "  z-index: 9999;\n",
              "  position: relative;\n",
              "  font-weight: normal;\n",
              "  right: .2ex;\n",
              "  padding: .5ex;\n",
              "  margin: .5ex;\n",
              "  width: min-content;\n",
              "  min-width: 20ex;\n",
              "  max-width: 50ex;\n",
              "  color: var(--sklearn-color-text);\n",
              "  box-shadow: 2pt 2pt 4pt #999;\n",
              "  /* unfitted */\n",
              "  background: var(--sklearn-color-unfitted-level-0);\n",
              "  border: .5pt solid var(--sklearn-color-unfitted-level-3);\n",
              "}\n",
              "\n",
              ".sk-estimator-doc-link.fitted span {\n",
              "  /* fitted */\n",
              "  background: var(--sklearn-color-fitted-level-0);\n",
              "  border: var(--sklearn-color-fitted-level-3);\n",
              "}\n",
              "\n",
              ".sk-estimator-doc-link:hover span {\n",
              "  display: block;\n",
              "}\n",
              "\n",
              "/* \"?\"-specific style due to the `<a>` HTML tag */\n",
              "\n",
              "#sk-container-id-19 a.estimator_doc_link {\n",
              "  float: right;\n",
              "  font-size: 1rem;\n",
              "  line-height: 1em;\n",
              "  font-family: monospace;\n",
              "  background-color: var(--sklearn-color-background);\n",
              "  border-radius: 1rem;\n",
              "  height: 1rem;\n",
              "  width: 1rem;\n",
              "  text-decoration: none;\n",
              "  /* unfitted */\n",
              "  color: var(--sklearn-color-unfitted-level-1);\n",
              "  border: var(--sklearn-color-unfitted-level-1) 1pt solid;\n",
              "}\n",
              "\n",
              "#sk-container-id-19 a.estimator_doc_link.fitted {\n",
              "  /* fitted */\n",
              "  border: var(--sklearn-color-fitted-level-1) 1pt solid;\n",
              "  color: var(--sklearn-color-fitted-level-1);\n",
              "}\n",
              "\n",
              "/* On hover */\n",
              "#sk-container-id-19 a.estimator_doc_link:hover {\n",
              "  /* unfitted */\n",
              "  background-color: var(--sklearn-color-unfitted-level-3);\n",
              "  color: var(--sklearn-color-background);\n",
              "  text-decoration: none;\n",
              "}\n",
              "\n",
              "#sk-container-id-19 a.estimator_doc_link.fitted:hover {\n",
              "  /* fitted */\n",
              "  background-color: var(--sklearn-color-fitted-level-3);\n",
              "}\n",
              "</style><div id=\"sk-container-id-19\" class=\"sk-top-container\"><div class=\"sk-text-repr-fallback\"><pre>KNeighborsClassifier(n_neighbors=15)</pre><b>In a Jupyter environment, please rerun this cell to show the HTML representation or trust the notebook. <br />On GitHub, the HTML representation is unable to render, please try loading this page with nbviewer.org.</b></div><div class=\"sk-container\" hidden><div class=\"sk-item\"><div class=\"sk-estimator fitted sk-toggleable\"><input class=\"sk-toggleable__control sk-hidden--visually\" id=\"sk-estimator-id-19\" type=\"checkbox\" checked><label for=\"sk-estimator-id-19\" class=\"sk-toggleable__label fitted sk-toggleable__label-arrow fitted\">&nbsp;&nbsp;KNeighborsClassifier<a class=\"sk-estimator-doc-link fitted\" rel=\"noreferrer\" target=\"_blank\" href=\"https://scikit-learn.org/1.5/modules/generated/sklearn.neighbors.KNeighborsClassifier.html\">?<span>Documentation for KNeighborsClassifier</span></a><span class=\"sk-estimator-doc-link fitted\">i<span>Fitted</span></span></label><div class=\"sk-toggleable__content fitted\"><pre>KNeighborsClassifier(n_neighbors=15)</pre></div> </div></div></div></div>"
            ],
            "text/plain": [
              "KNeighborsClassifier(n_neighbors=15)"
            ]
          },
          "execution_count": 1459,
          "metadata": {},
          "output_type": "execute_result"
        }
      ],
      "source": [
        "knn = KNeighborsClassifier(n_neighbors=15)\n",
        "\n",
        "X_train, X_test, y_train, y_test = train_test_split(knn_x, knn_y, test_size=0.3, random_state=100)\n",
        "\n",
        "# Standardize the dataset for models that are sensitive to feature scaling\n",
        "scaler = StandardScaler()\n",
        "X_train_scaled = scaler.fit_transform(X_train)\n",
        "X_test_scaled = scaler.transform(X_test)\n",
        "\n",
        "knn.fit(X_train_scaled, y_train)"
      ]
    },
    {
      "cell_type": "code",
      "execution_count": 1460,
      "metadata": {},
      "outputs": [
        {
          "name": "stdout",
          "output_type": "stream",
          "text": [
            "Accuracy: 77.3723%\n"
          ]
        }
      ],
      "source": [
        "y_true = y_test\n",
        "y_pred = knn.predict(X_test_scaled)\n",
        "\n",
        "accuracy = accuracy_score(y_true, y_pred)\n",
        "print(f\"Accuracy: {accuracy * 100:.4f}%\")"
      ]
    },
    {
      "cell_type": "code",
      "execution_count": 1461,
      "metadata": {},
      "outputs": [],
      "source": [
        "knn_x = dataset[['high_speed_internet_access_2022','home_ownership_2022']]\n",
        "knn_y = dataset['median_age_of_residents_2022_binary']"
      ]
    },
    {
      "cell_type": "code",
      "execution_count": 1462,
      "metadata": {},
      "outputs": [
        {
          "name": "stdout",
          "output_type": "stream",
          "text": [
            "Accuracy: 77.3723%\n",
            "KNN cross-validation accuracy: 78.92%\n"
          ]
        }
      ],
      "source": [
        "knn = KNeighborsClassifier(n_neighbors=15)\n",
        "\n",
        "X_train, X_test, y_train, y_test = train_test_split(knn_x, knn_y, test_size=0.3, random_state=100)\n",
        "\n",
        "# Standardize the dataset for models that are sensitive to feature scaling\n",
        "scaler = StandardScaler()\n",
        "X_train_scaled = scaler.fit_transform(X_train)\n",
        "X_test_scaled = scaler.transform(X_test)\n",
        "\n",
        "knn.fit(X_train_scaled, y_train)\n",
        "\n",
        "y_true = y_test\n",
        "y_pred = knn.predict(X_test_scaled)\n",
        "\n",
        "accuracy = accuracy_score(y_true, y_pred)\n",
        "print(f\"Accuracy: {accuracy * 100:.4f}%\")\n",
        "\n",
        "\n",
        "accuracy = cross_val_score(knn, X_test_scaled, y_test, cv = 8)\n",
        "print(f\"KNN cross-validation accuracy: {accuracy.mean() * 100:.2f}%\")"
      ]
    },
    {
      "cell_type": "code",
      "execution_count": 1463,
      "metadata": {},
      "outputs": [],
      "source": [
        "knn_x = dataset[['high_speed_internet_access_2022','home_ownership_2022','single_family_housing_2022_Raw','proximity_to_public_transportation_2022']]\n",
        "knn_y = dataset['median_age_of_residents_2022_binary']"
      ]
    },
    {
      "cell_type": "code",
      "execution_count": 1464,
      "metadata": {},
      "outputs": [
        {
          "name": "stdout",
          "output_type": "stream",
          "text": [
            "Accuracy: 75.9124%\n",
            "KNN cross-validation accuracy: 73.82%\n"
          ]
        }
      ],
      "source": [
        "knn = KNeighborsClassifier(n_neighbors=59)\n",
        "\n",
        "X_train, X_test, y_train, y_test = train_test_split(knn_x, knn_y, test_size=0.3, random_state=100)\n",
        "\n",
        "# Standardize the dataset for models that are sensitive to feature scaling\n",
        "scaler = StandardScaler()\n",
        "X_train_scaled = scaler.fit_transform(X_train)\n",
        "X_test_scaled = scaler.transform(X_test)\n",
        "\n",
        "knn.fit(X_train_scaled, y_train)\n",
        "\n",
        "y_true = y_test\n",
        "y_pred = knn.predict(X_test_scaled)\n",
        "\n",
        "accuracy = accuracy_score(y_true, y_pred)\n",
        "print(f\"Accuracy: {accuracy * 100:.4f}%\")\n",
        "\n",
        "\n",
        "accuracy = cross_val_score(knn, X_test_scaled, y_test, cv = 8)\n",
        "print(f\"KNN cross-validation accuracy: {accuracy.mean() * 100:.2f}%\")"
      ]
    },
    {
      "cell_type": "markdown",
      "metadata": {},
      "source": [
        "**FINAL MODEL KNN:**"
      ]
    },
    {
      "cell_type": "code",
      "execution_count": 1465,
      "metadata": {},
      "outputs": [],
      "source": [
        "knn_x = dataset[['high_speed_internet_access_2022','home_ownership_2022']]\n",
        "knn_y = dataset['median_age_of_residents_2022_binary']"
      ]
    },
    {
      "cell_type": "code",
      "execution_count": 1466,
      "metadata": {},
      "outputs": [
        {
          "name": "stdout",
          "output_type": "stream",
          "text": [
            "Accuracy: 77.3723%\n",
            "KNN cross-validation accuracy: 78.92%\n"
          ]
        }
      ],
      "source": [
        "knn = KNeighborsClassifier(n_neighbors=15)\n",
        "\n",
        "X_train, X_test, y_train, y_test = train_test_split(knn_x, knn_y, test_size=0.3, random_state=100)\n",
        "\n",
        "# Standardize the dataset for models that are sensitive to feature scaling\n",
        "scaler = StandardScaler()\n",
        "X_train_scaled = scaler.fit_transform(X_train)\n",
        "X_test_scaled = scaler.transform(X_test)\n",
        "\n",
        "knn.fit(X_train_scaled, y_train)\n",
        "\n",
        "y_true = y_test\n",
        "y_pred = knn.predict(X_test_scaled)\n",
        "\n",
        "accuracy = accuracy_score(y_true, y_pred)\n",
        "print(f\"Accuracy: {accuracy * 100:.4f}%\")\n",
        "\n",
        "\n",
        "accuracy = cross_val_score(knn, X_test_scaled, y_test, cv = 8)\n",
        "print(f\"KNN cross-validation accuracy: {accuracy.mean() * 100:.2f}%\")"
      ]
    }
  ],
  "metadata": {
    "colab": {
      "provenance": []
    },
    "kernelspec": {
      "display_name": "Python 3",
      "name": "python3"
    },
    "language_info": {
      "codemirror_mode": {
        "name": "ipython",
        "version": 3
      },
      "file_extension": ".py",
      "mimetype": "text/x-python",
      "name": "python",
      "nbconvert_exporter": "python",
      "pygments_lexer": "ipython3",
      "version": "3.12.10"
    }
  },
  "nbformat": 4,
  "nbformat_minor": 0
}
