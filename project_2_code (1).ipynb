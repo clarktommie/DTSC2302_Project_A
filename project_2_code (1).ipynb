{
  "cells": [
    {
      "cell_type": "code",
      "execution_count": 44,
      "metadata": {
        "id": "LdeV08DhMPhi"
      },
      "outputs": [],
      "source": [
        "import numpy as np\n",
        "import pandas as pd\n",
        "import matplotlib.pyplot as plt\n",
        "from sklearn.datasets import make_classification\n",
        "from sklearn.model_selection import train_test_split\n",
        "from sklearn.decomposition import PCA\n",
        "from sklearn.preprocessing import StandardScaler\n",
        "from sklearn.discriminant_analysis import LinearDiscriminantAnalysis, QuadraticDiscriminantAnalysis\n",
        "from sklearn.neighbors import KNeighborsClassifier\n",
        "from sklearn.metrics import confusion_matrix, accuracy_score, precision_score, recall_score, f1_score\n",
        "from sklearn.linear_model import LogisticRegression\n",
        "\n",
        "import scipy.stats as st\n",
        "import statsmodels.api as sm\n",
        "import pylab as py\n",
        "\n",
        "# here are some of the tools we will use for our analyses\n",
        "from sklearn.linear_model import LinearRegression\n",
        "from sklearn.metrics import PredictionErrorDisplay\n",
        "\n",
        "from sklearn.metrics import r2_score"
      ]
    },
    {
      "cell_type": "code",
      "execution_count": 45,
      "metadata": {
        "id": "ZMpAYdUk0jgr"
      },
      "outputs": [],
      "source": [
        "import random"
      ]
    },
    {
      "cell_type": "code",
      "execution_count": 46,
      "metadata": {
        "id": "IHUsXr9c1aCy"
      },
      "outputs": [],
      "source": [
        "random.seed(100)"
      ]
    },
    {
      "cell_type": "code",
      "execution_count": 47,
      "metadata": {
        "id": "Km8wT97Z_4mX"
      },
      "outputs": [],
      "source": [
        "import shap"
      ]
    },
    {
      "cell_type": "code",
      "execution_count": 48,
      "metadata": {
        "id": "VgiwmTZ3zB1i"
      },
      "outputs": [],
      "source": [
        "from sklearn import tree\n",
        "from sklearn.tree import DecisionTreeClassifier\n",
        "from sklearn.model_selection import train_test_split\n",
        "from sklearn.metrics import confusion_matrix, accuracy_score\n",
        "\n",
        "from sklearn.svm import SVC\n",
        "from sklearn.model_selection import cross_val_score"
      ]
    },
    {
      "cell_type": "markdown",
      "metadata": {
        "id": "5gTZyIKlRJJM"
      },
      "source": []
    },
    {
      "cell_type": "code",
      "execution_count": 49,
      "metadata": {
        "id": "X0qJv2S-osZP"
      },
      "outputs": [],
      "source": [
        "dataset = pd.read_excel(r\"Final Project 2302 Data - group 13.xlsx\",na_values=['--'])\n",
        "dataset.dropna(inplace=True)"
      ]
    },
    {
      "cell_type": "code",
      "execution_count": 50,
      "metadata": {
        "id": "YoHWbVEC4wMw"
      },
      "outputs": [],
      "source": [
        "#from google.colab import drive\n",
        "#drive.mount('/content/drive')"
      ]
    },
    {
      "cell_type": "code",
      "execution_count": 51,
      "metadata": {
        "colab": {
          "base_uri": "https://localhost:8080/",
          "height": 226
        },
        "id": "RZFvrMZUvrWV",
        "outputId": "7a1e8e95-1b9c-4b24-cbd9-bfdac71ea9b6"
      },
      "outputs": [
        {
          "data": {
            "application/vnd.microsoft.datawrangler.viewer.v0+json": {
              "columns": [
                {
                  "name": "index",
                  "rawType": "int64",
                  "type": "integer"
                },
                {
                  "name": "NPA",
                  "rawType": "int64",
                  "type": "integer"
                },
                {
                  "name": "median_age_of_residents_2022",
                  "rawType": "float64",
                  "type": "float"
                },
                {
                  "name": "high_speed_internet_access_2022",
                  "rawType": "float64",
                  "type": "float"
                },
                {
                  "name": "employment_2022",
                  "rawType": "float64",
                  "type": "float"
                },
                {
                  "name": "single_family_housing_2022_Raw",
                  "rawType": "int64",
                  "type": "integer"
                },
                {
                  "name": "residential_occupancy_2022",
                  "rawType": "float64",
                  "type": "float"
                },
                {
                  "name": "home_ownership_2022",
                  "rawType": "float64",
                  "type": "float"
                },
                {
                  "name": "vacant_land_in_acres_2022",
                  "rawType": "int64",
                  "type": "integer"
                },
                {
                  "name": "proximity_to_public_transportation_2022",
                  "rawType": "int64",
                  "type": "integer"
                },
                {
                  "name": "street_connectivity_index_2022",
                  "rawType": "float64",
                  "type": "float"
                },
                {
                  "name": "proximity_to_school_age_care_2022",
                  "rawType": "int64",
                  "type": "integer"
                },
                {
                  "name": "proximity_to_early_care_and_education_2022",
                  "rawType": "int64",
                  "type": "integer"
                }
              ],
              "conversionMethod": "pd.DataFrame",
              "ref": "a18a46e8-4f01-4a45-b44a-2a67ab98b1bd",
              "rows": [
                [
                  "0",
                  "2",
                  "33.0",
                  "0.766",
                  "0.955",
                  "504",
                  "0.94",
                  "0.387",
                  "21",
                  "1129",
                  "1.0",
                  "1121",
                  "651"
                ],
                [
                  "1",
                  "3",
                  "31.0",
                  "0.916",
                  "0.976",
                  "1613",
                  "0.864",
                  "0.389",
                  "25",
                  "8510",
                  "2.0",
                  "6605",
                  "7502"
                ],
                [
                  "2",
                  "4",
                  "44.0",
                  "0.919",
                  "0.98",
                  "364",
                  "0.897",
                  "1.0",
                  "13",
                  "353",
                  "1.0",
                  "162",
                  "172"
                ],
                [
                  "3",
                  "5",
                  "31.0",
                  "0.639",
                  "0.847",
                  "189",
                  "0.94",
                  "0.232",
                  "36",
                  "336",
                  "1.0",
                  "346",
                  "346"
                ],
                [
                  "4",
                  "6",
                  "36.0",
                  "0.598",
                  "1.0",
                  "675",
                  "0.88",
                  "0.315",
                  "37",
                  "811",
                  "1.0",
                  "789",
                  "811"
                ]
              ],
              "shape": {
                "columns": 12,
                "rows": 5
              }
            },
            "text/html": [
              "<div>\n",
              "<style scoped>\n",
              "    .dataframe tbody tr th:only-of-type {\n",
              "        vertical-align: middle;\n",
              "    }\n",
              "\n",
              "    .dataframe tbody tr th {\n",
              "        vertical-align: top;\n",
              "    }\n",
              "\n",
              "    .dataframe thead th {\n",
              "        text-align: right;\n",
              "    }\n",
              "</style>\n",
              "<table border=\"1\" class=\"dataframe\">\n",
              "  <thead>\n",
              "    <tr style=\"text-align: right;\">\n",
              "      <th></th>\n",
              "      <th>NPA</th>\n",
              "      <th>median_age_of_residents_2022</th>\n",
              "      <th>high_speed_internet_access_2022</th>\n",
              "      <th>employment_2022</th>\n",
              "      <th>single_family_housing_2022_Raw</th>\n",
              "      <th>residential_occupancy_2022</th>\n",
              "      <th>home_ownership_2022</th>\n",
              "      <th>vacant_land_in_acres_2022</th>\n",
              "      <th>proximity_to_public_transportation_2022</th>\n",
              "      <th>street_connectivity_index_2022</th>\n",
              "      <th>proximity_to_school_age_care_2022</th>\n",
              "      <th>proximity_to_early_care_and_education_2022</th>\n",
              "    </tr>\n",
              "  </thead>\n",
              "  <tbody>\n",
              "    <tr>\n",
              "      <th>0</th>\n",
              "      <td>2</td>\n",
              "      <td>33.0</td>\n",
              "      <td>0.766</td>\n",
              "      <td>0.955</td>\n",
              "      <td>504</td>\n",
              "      <td>0.940</td>\n",
              "      <td>0.387</td>\n",
              "      <td>21</td>\n",
              "      <td>1129</td>\n",
              "      <td>1.0</td>\n",
              "      <td>1121</td>\n",
              "      <td>651</td>\n",
              "    </tr>\n",
              "    <tr>\n",
              "      <th>1</th>\n",
              "      <td>3</td>\n",
              "      <td>31.0</td>\n",
              "      <td>0.916</td>\n",
              "      <td>0.976</td>\n",
              "      <td>1613</td>\n",
              "      <td>0.864</td>\n",
              "      <td>0.389</td>\n",
              "      <td>25</td>\n",
              "      <td>8510</td>\n",
              "      <td>2.0</td>\n",
              "      <td>6605</td>\n",
              "      <td>7502</td>\n",
              "    </tr>\n",
              "    <tr>\n",
              "      <th>2</th>\n",
              "      <td>4</td>\n",
              "      <td>44.0</td>\n",
              "      <td>0.919</td>\n",
              "      <td>0.980</td>\n",
              "      <td>364</td>\n",
              "      <td>0.897</td>\n",
              "      <td>1.000</td>\n",
              "      <td>13</td>\n",
              "      <td>353</td>\n",
              "      <td>1.0</td>\n",
              "      <td>162</td>\n",
              "      <td>172</td>\n",
              "    </tr>\n",
              "    <tr>\n",
              "      <th>3</th>\n",
              "      <td>5</td>\n",
              "      <td>31.0</td>\n",
              "      <td>0.639</td>\n",
              "      <td>0.847</td>\n",
              "      <td>189</td>\n",
              "      <td>0.940</td>\n",
              "      <td>0.232</td>\n",
              "      <td>36</td>\n",
              "      <td>336</td>\n",
              "      <td>1.0</td>\n",
              "      <td>346</td>\n",
              "      <td>346</td>\n",
              "    </tr>\n",
              "    <tr>\n",
              "      <th>4</th>\n",
              "      <td>6</td>\n",
              "      <td>36.0</td>\n",
              "      <td>0.598</td>\n",
              "      <td>1.000</td>\n",
              "      <td>675</td>\n",
              "      <td>0.880</td>\n",
              "      <td>0.315</td>\n",
              "      <td>37</td>\n",
              "      <td>811</td>\n",
              "      <td>1.0</td>\n",
              "      <td>789</td>\n",
              "      <td>811</td>\n",
              "    </tr>\n",
              "  </tbody>\n",
              "</table>\n",
              "</div>"
            ],
            "text/plain": [
              "   NPA  median_age_of_residents_2022  high_speed_internet_access_2022  \\\n",
              "0    2                          33.0                            0.766   \n",
              "1    3                          31.0                            0.916   \n",
              "2    4                          44.0                            0.919   \n",
              "3    5                          31.0                            0.639   \n",
              "4    6                          36.0                            0.598   \n",
              "\n",
              "   employment_2022  single_family_housing_2022_Raw  \\\n",
              "0            0.955                             504   \n",
              "1            0.976                            1613   \n",
              "2            0.980                             364   \n",
              "3            0.847                             189   \n",
              "4            1.000                             675   \n",
              "\n",
              "   residential_occupancy_2022  home_ownership_2022  vacant_land_in_acres_2022  \\\n",
              "0                       0.940                0.387                         21   \n",
              "1                       0.864                0.389                         25   \n",
              "2                       0.897                1.000                         13   \n",
              "3                       0.940                0.232                         36   \n",
              "4                       0.880                0.315                         37   \n",
              "\n",
              "   proximity_to_public_transportation_2022  street_connectivity_index_2022  \\\n",
              "0                                     1129                             1.0   \n",
              "1                                     8510                             2.0   \n",
              "2                                      353                             1.0   \n",
              "3                                      336                             1.0   \n",
              "4                                      811                             1.0   \n",
              "\n",
              "   proximity_to_school_age_care_2022  \\\n",
              "0                               1121   \n",
              "1                               6605   \n",
              "2                                162   \n",
              "3                                346   \n",
              "4                                789   \n",
              "\n",
              "   proximity_to_early_care_and_education_2022  \n",
              "0                                         651  \n",
              "1                                        7502  \n",
              "2                                         172  \n",
              "3                                         346  \n",
              "4                                         811  "
            ]
          },
          "execution_count": 51,
          "metadata": {},
          "output_type": "execute_result"
        }
      ],
      "source": [
        "dataset.head()"
      ]
    },
    {
      "cell_type": "code",
      "execution_count": 52,
      "metadata": {
        "id": "6FtodSM4xIgS"
      },
      "outputs": [],
      "source": [
        "dtree_9 = DecisionTreeClassifier(max_depth=9, random_state=100)\n",
        "log_reg = LogisticRegression()\n",
        "lda = LinearDiscriminantAnalysis()\n",
        "qda = QuadraticDiscriminantAnalysis()\n",
        "svm_lin = SVC(kernel='linear')\n",
        "svm_rbf = SVC(kernel='rbf')"
      ]
    },
    {
      "cell_type": "code",
      "execution_count": 53,
      "metadata": {
        "id": "rhrz4B6W2DIh"
      },
      "outputs": [],
      "source": [
        "scaler = StandardScaler()"
      ]
    },
    {
      "cell_type": "code",
      "execution_count": 54,
      "metadata": {
        "id": "CWkeN4sp5pn3"
      },
      "outputs": [],
      "source": [
        "x = dataset[['high_speed_internet_access_2022','employment_2022','single_family_housing_2022_Raw','residential_occupancy_2022','home_ownership_2022','vacant_land_in_acres_2022','proximity_to_public_transportation_2022','street_connectivity_index_2022','proximity_to_school_age_care_2022','proximity_to_early_care_and_education_2022']]\n",
        "#y = dataset['median_age_of_residents_2022']\n"
      ]
    },
    {
      "cell_type": "code",
      "execution_count": 55,
      "metadata": {},
      "outputs": [
        {
          "data": {
            "application/vnd.microsoft.datawrangler.viewer.v0+json": {
              "columns": [
                {
                  "name": "index",
                  "rawType": "int64",
                  "type": "integer"
                },
                {
                  "name": "NPA",
                  "rawType": "int64",
                  "type": "integer"
                },
                {
                  "name": "median_age_of_residents_2022",
                  "rawType": "float64",
                  "type": "float"
                },
                {
                  "name": "high_speed_internet_access_2022",
                  "rawType": "float64",
                  "type": "float"
                },
                {
                  "name": "employment_2022",
                  "rawType": "float64",
                  "type": "float"
                },
                {
                  "name": "single_family_housing_2022_Raw",
                  "rawType": "int64",
                  "type": "integer"
                },
                {
                  "name": "residential_occupancy_2022",
                  "rawType": "float64",
                  "type": "float"
                },
                {
                  "name": "home_ownership_2022",
                  "rawType": "float64",
                  "type": "float"
                },
                {
                  "name": "vacant_land_in_acres_2022",
                  "rawType": "int64",
                  "type": "integer"
                },
                {
                  "name": "proximity_to_public_transportation_2022",
                  "rawType": "int64",
                  "type": "integer"
                },
                {
                  "name": "street_connectivity_index_2022",
                  "rawType": "float64",
                  "type": "float"
                },
                {
                  "name": "proximity_to_school_age_care_2022",
                  "rawType": "int64",
                  "type": "integer"
                },
                {
                  "name": "proximity_to_early_care_and_education_2022",
                  "rawType": "int64",
                  "type": "integer"
                },
                {
                  "name": "median_age_of_residents_2022_binary",
                  "rawType": "int64",
                  "type": "integer"
                }
              ],
              "conversionMethod": "pd.DataFrame",
              "ref": "d151bcfa-0cc6-4bf2-a430-7131e6c5b1f6",
              "rows": [
                [
                  "0",
                  "2",
                  "33.0",
                  "0.766",
                  "0.955",
                  "504",
                  "0.94",
                  "0.387",
                  "21",
                  "1129",
                  "1.0",
                  "1121",
                  "651",
                  "0"
                ],
                [
                  "1",
                  "3",
                  "31.0",
                  "0.916",
                  "0.976",
                  "1613",
                  "0.864",
                  "0.389",
                  "25",
                  "8510",
                  "2.0",
                  "6605",
                  "7502",
                  "0"
                ],
                [
                  "2",
                  "4",
                  "44.0",
                  "0.919",
                  "0.98",
                  "364",
                  "0.897",
                  "1.0",
                  "13",
                  "353",
                  "1.0",
                  "162",
                  "172",
                  "1"
                ],
                [
                  "3",
                  "5",
                  "31.0",
                  "0.639",
                  "0.847",
                  "189",
                  "0.94",
                  "0.232",
                  "36",
                  "336",
                  "1.0",
                  "346",
                  "346",
                  "0"
                ],
                [
                  "4",
                  "6",
                  "36.0",
                  "0.598",
                  "1.0",
                  "675",
                  "0.88",
                  "0.315",
                  "37",
                  "811",
                  "1.0",
                  "789",
                  "811",
                  "1"
                ]
              ],
              "shape": {
                "columns": 13,
                "rows": 5
              }
            },
            "text/html": [
              "<div>\n",
              "<style scoped>\n",
              "    .dataframe tbody tr th:only-of-type {\n",
              "        vertical-align: middle;\n",
              "    }\n",
              "\n",
              "    .dataframe tbody tr th {\n",
              "        vertical-align: top;\n",
              "    }\n",
              "\n",
              "    .dataframe thead th {\n",
              "        text-align: right;\n",
              "    }\n",
              "</style>\n",
              "<table border=\"1\" class=\"dataframe\">\n",
              "  <thead>\n",
              "    <tr style=\"text-align: right;\">\n",
              "      <th></th>\n",
              "      <th>NPA</th>\n",
              "      <th>median_age_of_residents_2022</th>\n",
              "      <th>high_speed_internet_access_2022</th>\n",
              "      <th>employment_2022</th>\n",
              "      <th>single_family_housing_2022_Raw</th>\n",
              "      <th>residential_occupancy_2022</th>\n",
              "      <th>home_ownership_2022</th>\n",
              "      <th>vacant_land_in_acres_2022</th>\n",
              "      <th>proximity_to_public_transportation_2022</th>\n",
              "      <th>street_connectivity_index_2022</th>\n",
              "      <th>proximity_to_school_age_care_2022</th>\n",
              "      <th>proximity_to_early_care_and_education_2022</th>\n",
              "      <th>median_age_of_residents_2022_binary</th>\n",
              "    </tr>\n",
              "  </thead>\n",
              "  <tbody>\n",
              "    <tr>\n",
              "      <th>0</th>\n",
              "      <td>2</td>\n",
              "      <td>33.0</td>\n",
              "      <td>0.766</td>\n",
              "      <td>0.955</td>\n",
              "      <td>504</td>\n",
              "      <td>0.940</td>\n",
              "      <td>0.387</td>\n",
              "      <td>21</td>\n",
              "      <td>1129</td>\n",
              "      <td>1.0</td>\n",
              "      <td>1121</td>\n",
              "      <td>651</td>\n",
              "      <td>0</td>\n",
              "    </tr>\n",
              "    <tr>\n",
              "      <th>1</th>\n",
              "      <td>3</td>\n",
              "      <td>31.0</td>\n",
              "      <td>0.916</td>\n",
              "      <td>0.976</td>\n",
              "      <td>1613</td>\n",
              "      <td>0.864</td>\n",
              "      <td>0.389</td>\n",
              "      <td>25</td>\n",
              "      <td>8510</td>\n",
              "      <td>2.0</td>\n",
              "      <td>6605</td>\n",
              "      <td>7502</td>\n",
              "      <td>0</td>\n",
              "    </tr>\n",
              "    <tr>\n",
              "      <th>2</th>\n",
              "      <td>4</td>\n",
              "      <td>44.0</td>\n",
              "      <td>0.919</td>\n",
              "      <td>0.980</td>\n",
              "      <td>364</td>\n",
              "      <td>0.897</td>\n",
              "      <td>1.000</td>\n",
              "      <td>13</td>\n",
              "      <td>353</td>\n",
              "      <td>1.0</td>\n",
              "      <td>162</td>\n",
              "      <td>172</td>\n",
              "      <td>1</td>\n",
              "    </tr>\n",
              "    <tr>\n",
              "      <th>3</th>\n",
              "      <td>5</td>\n",
              "      <td>31.0</td>\n",
              "      <td>0.639</td>\n",
              "      <td>0.847</td>\n",
              "      <td>189</td>\n",
              "      <td>0.940</td>\n",
              "      <td>0.232</td>\n",
              "      <td>36</td>\n",
              "      <td>336</td>\n",
              "      <td>1.0</td>\n",
              "      <td>346</td>\n",
              "      <td>346</td>\n",
              "      <td>0</td>\n",
              "    </tr>\n",
              "    <tr>\n",
              "      <th>4</th>\n",
              "      <td>6</td>\n",
              "      <td>36.0</td>\n",
              "      <td>0.598</td>\n",
              "      <td>1.000</td>\n",
              "      <td>675</td>\n",
              "      <td>0.880</td>\n",
              "      <td>0.315</td>\n",
              "      <td>37</td>\n",
              "      <td>811</td>\n",
              "      <td>1.0</td>\n",
              "      <td>789</td>\n",
              "      <td>811</td>\n",
              "      <td>1</td>\n",
              "    </tr>\n",
              "  </tbody>\n",
              "</table>\n",
              "</div>"
            ],
            "text/plain": [
              "   NPA  median_age_of_residents_2022  high_speed_internet_access_2022  \\\n",
              "0    2                          33.0                            0.766   \n",
              "1    3                          31.0                            0.916   \n",
              "2    4                          44.0                            0.919   \n",
              "3    5                          31.0                            0.639   \n",
              "4    6                          36.0                            0.598   \n",
              "\n",
              "   employment_2022  single_family_housing_2022_Raw  \\\n",
              "0            0.955                             504   \n",
              "1            0.976                            1613   \n",
              "2            0.980                             364   \n",
              "3            0.847                             189   \n",
              "4            1.000                             675   \n",
              "\n",
              "   residential_occupancy_2022  home_ownership_2022  vacant_land_in_acres_2022  \\\n",
              "0                       0.940                0.387                         21   \n",
              "1                       0.864                0.389                         25   \n",
              "2                       0.897                1.000                         13   \n",
              "3                       0.940                0.232                         36   \n",
              "4                       0.880                0.315                         37   \n",
              "\n",
              "   proximity_to_public_transportation_2022  street_connectivity_index_2022  \\\n",
              "0                                     1129                             1.0   \n",
              "1                                     8510                             2.0   \n",
              "2                                      353                             1.0   \n",
              "3                                      336                             1.0   \n",
              "4                                      811                             1.0   \n",
              "\n",
              "   proximity_to_school_age_care_2022  \\\n",
              "0                               1121   \n",
              "1                               6605   \n",
              "2                                162   \n",
              "3                                346   \n",
              "4                                789   \n",
              "\n",
              "   proximity_to_early_care_and_education_2022  \\\n",
              "0                                         651   \n",
              "1                                        7502   \n",
              "2                                         172   \n",
              "3                                         346   \n",
              "4                                         811   \n",
              "\n",
              "   median_age_of_residents_2022_binary  \n",
              "0                                    0  \n",
              "1                                    0  \n",
              "2                                    1  \n",
              "3                                    0  \n",
              "4                                    1  "
            ]
          },
          "execution_count": 55,
          "metadata": {},
          "output_type": "execute_result"
        }
      ],
      "source": [
        "dataset['median_age_of_residents_2022_binary'] = (dataset['median_age_of_residents_2022'] > 35).astype(int)\n",
        "y = dataset['median_age_of_residents_2022_binary']\n",
        "\n",
        "dataset.head()"
      ]
    },
    {
      "cell_type": "code",
      "execution_count": 56,
      "metadata": {
        "id": "rKDCwWMf8hMI"
      },
      "outputs": [],
      "source": [
        "X_train, X_test, y_train, y_test = train_test_split(x, y, test_size=0.3, random_state=100)\n",
        "\n",
        "# Standardize the dataset for models that are sensitive to feature scaling\n",
        "scaler = StandardScaler()\n",
        "X_train_scaled = scaler.fit_transform(X_train)\n",
        "X_test_scaled = scaler.transform(X_test)"
      ]
    },
    {
      "cell_type": "markdown",
      "metadata": {},
      "source": [
        "**logisitic**"
      ]
    },
    {
      "cell_type": "code",
      "execution_count": 57,
      "metadata": {
        "colab": {
          "base_uri": "https://localhost:8080/",
          "height": 1000
        },
        "id": "wr6fYlkM_dYl",
        "outputId": "a98a5032-53dc-4f4f-fb8e-80ed4c001fd2"
      },
      "outputs": [
        {
          "data": {
            "image/png": "[encoded data removed]",
            "text/plain": [
              "<Figure size 800x550 with 2 Axes>"
            ]
          },
          "metadata": {},
          "output_type": "display_data"
        }
      ],
      "source": [
        "# shap for logistic\n",
        "\n",
        "log_reg.fit(X_train_scaled, y_train)\n",
        "\n",
        "# Create a SHAP explainer object\n",
        "explainer = shap.Explainer(log_reg, X_train_scaled)\n",
        "\n",
        "# Get SHAP values for the test set\n",
        "shap_values = explainer(X_test_scaled)\n",
        "\n",
        "# Plot the SHAP summary plot (global explanation of the model)\n",
        "shap.summary_plot(shap_values, X_test_scaled)"
      ]
    },
    {
      "cell_type": "markdown",
      "metadata": {},
      "source": [
        "**Svm lin**"
      ]
    },
    {
      "cell_type": "code",
      "execution_count": 58,
      "metadata": {},
      "outputs": [
        {
          "name": "stdout",
          "output_type": "stream",
          "text": [
            ".values =\n",
            "array([[-1.81624000e-01,  5.98223093e-02, -8.58012989e-02, ...,\n",
            "        -2.04279586e-01, -4.20371001e-02, -1.14576493e+00],\n",
            "       [-1.12780091e-01,  3.84741418e-02,  1.13811955e-01, ...,\n",
            "         1.30391225e-02,  2.94473387e-02,  4.34069152e-01],\n",
            "       [ 9.76206626e-03,  5.98223093e-02, -2.68780584e-03, ...,\n",
            "         1.30391225e-02,  1.03218571e-02,  8.34758358e-02],\n",
            "       ...,\n",
            "       [ 3.27820925e-01,  2.78000581e-02, -4.35402007e-02, ...,\n",
            "         1.30391225e-02, -2.15539455e-02, -3.13863256e-01],\n",
            "       [-8.93731623e-02,  3.72881325e-02,  3.73193671e-02, ...,\n",
            "         1.30391225e-02,  5.82028544e-04,  1.07601850e-02],\n",
            "       [-2.00900294e-01,  4.67762070e-02,  5.81681755e-02, ...,\n",
            "         1.30391225e-02,  3.31661823e-02,  4.37531802e-01]])\n",
            "\n",
            ".base_values =\n",
            "array([0.13729307, 0.13729307, 0.13729307, 0.13729307, 0.13729307,\n",
            "       0.13729307, 0.13729307, 0.13729307, 0.13729307, 0.13729307,\n",
            "       0.13729307, 0.13729307, 0.13729307, 0.13729307, 0.13729307,\n",
            "       0.13729307, 0.13729307, 0.13729307, 0.13729307, 0.13729307,\n",
            "       0.13729307, 0.13729307, 0.13729307, 0.13729307, 0.13729307,\n",
            "       0.13729307, 0.13729307, 0.13729307, 0.13729307, 0.13729307,\n",
            "       0.13729307, 0.13729307, 0.13729307, 0.13729307, 0.13729307,\n",
            "       0.13729307, 0.13729307, 0.13729307, 0.13729307, 0.13729307,\n",
            "       0.13729307, 0.13729307, 0.13729307, 0.13729307, 0.13729307,\n",
            "       0.13729307, 0.13729307, 0.13729307, 0.13729307, 0.13729307,\n",
            "       0.13729307, 0.13729307, 0.13729307, 0.13729307, 0.13729307,\n",
            "       0.13729307, 0.13729307, 0.13729307, 0.13729307, 0.13729307,\n",
            "       0.13729307, 0.13729307, 0.13729307, 0.13729307, 0.13729307,\n",
            "       0.13729307, 0.13729307, 0.13729307, 0.13729307, 0.13729307,\n",
            "       0.13729307, 0.13729307, 0.13729307, 0.13729307, 0.13729307,\n",
            "       0.13729307, 0.13729307, 0.13729307, 0.13729307, 0.13729307,\n",
            "       0.13729307, 0.13729307, 0.13729307, 0.13729307, 0.13729307,\n",
            "       0.13729307, 0.13729307, 0.13729307, 0.13729307, 0.13729307,\n",
            "       0.13729307, 0.13729307, 0.13729307, 0.13729307, 0.13729307,\n",
            "       0.13729307, 0.13729307, 0.13729307, 0.13729307, 0.13729307,\n",
            "       0.13729307, 0.13729307, 0.13729307, 0.13729307, 0.13729307,\n",
            "       0.13729307, 0.13729307, 0.13729307, 0.13729307, 0.13729307,\n",
            "       0.13729307, 0.13729307, 0.13729307, 0.13729307, 0.13729307,\n",
            "       0.13729307, 0.13729307, 0.13729307, 0.13729307, 0.13729307,\n",
            "       0.13729307, 0.13729307, 0.13729307, 0.13729307, 0.13729307,\n",
            "       0.13729307, 0.13729307, 0.13729307, 0.13729307, 0.13729307,\n",
            "       0.13729307, 0.13729307, 0.13729307, 0.13729307, 0.13729307,\n",
            "       0.13729307, 0.13729307])\n",
            "\n",
            ".data =\n",
            "array([[ 1.09811008e+00,  9.21788932e-01, -1.23304348e+00, ...,\n",
            "         4.65985898e+00,  8.39030908e-01,  1.46559676e+00],\n",
            "       [ 7.21078610e-01,  6.06295040e-01,  1.79007972e+00, ...,\n",
            "        -2.14598769e-01, -5.66940602e-01, -5.19483104e-01],\n",
            "       [ 4.99625977e-02,  9.21788932e-01,  2.57022432e-02, ...,\n",
            "        -2.14598769e-01, -1.90776466e-01, -7.89585312e-02],\n",
            "       ...,\n",
            "       [-1.69192278e+00,  4.48548094e-01, -5.93003282e-01, ...,\n",
            "        -2.14598769e-01,  4.36163762e-01,  4.20302651e-01],\n",
            "       [ 5.92887911e-01,  5.88767602e-01,  6.31606964e-01, ...,\n",
            "        -2.14598769e-01,  7.88604060e-04,  1.24095283e-02],\n",
            "       [ 1.20367889e+00,  7.28987109e-01,  9.47360129e-01, ...,\n",
            "        -2.14598769e-01, -6.40083629e-01, -5.23833964e-01]])\n"
          ]
        },
        {
          "data": {
            "image/png": "[encoded data removed]",
            "text/plain": [
              "<Figure size 800x550 with 2 Axes>"
            ]
          },
          "metadata": {},
          "output_type": "display_data"
        }
      ],
      "source": [
        "svm_lin.fit(X_train_scaled, y_train)\n",
        "\n",
        "# Create a SHAP explainer object\n",
        "explainer = shap.Explainer(svm_lin, X_train_scaled)\n",
        "\n",
        "# Get SHAP values for the test set\n",
        "shap_values = explainer(X_test_scaled)\n",
        "print(shap_values)\n",
        "# Plot the SHAP summary plot (global explanation of the model)\n",
        "shap.summary_plot(shap_values, X_test_scaled)"
      ]
    },
    {
      "cell_type": "markdown",
      "metadata": {},
      "source": [
        "**lda**"
      ]
    },
    {
      "cell_type": "code",
      "execution_count": 59,
      "metadata": {},
      "outputs": [
        {
          "name": "stdout",
          "output_type": "stream",
          "text": [
            ".values =\n",
            "array([[-2.80876526e-01,  1.22181533e-01, -1.13866772e-02, ...,\n",
            "        -1.77906667e-01, -3.73802621e-01, -5.05872092e-01],\n",
            "       [-1.74411312e-01,  7.85798759e-02,  1.51039671e-02, ...,\n",
            "         1.13557447e-02,  2.61851849e-01,  1.91647924e-01],\n",
            "       [ 1.50967672e-02,  1.22181533e-01, -3.56698301e-04, ...,\n",
            "         1.13557447e-02,  9.17840963e-02,  3.68558110e-02],\n",
            "       ...,\n",
            "       [ 5.06966053e-01,  5.67790472e-02, -5.77821336e-03, ...,\n",
            "         1.13557447e-02, -1.91662158e-01, -1.38575251e-01],\n",
            "       [-1.38213140e-01,  7.61575616e-02,  4.95264748e-03, ...,\n",
            "         1.13557447e-02,  5.17551864e-03,  4.75078016e-03],\n",
            "       [-3.10686786e-01,  9.55360760e-02,  7.71948965e-03, ...,\n",
            "         1.13557447e-02,  2.94920578e-01,  1.93176735e-01]])\n",
            "\n",
            ".base_values =\n",
            "array([0.12324044, 0.12324044, 0.12324044, 0.12324044, 0.12324044,\n",
            "       0.12324044, 0.12324044, 0.12324044, 0.12324044, 0.12324044,\n",
            "       0.12324044, 0.12324044, 0.12324044, 0.12324044, 0.12324044,\n",
            "       0.12324044, 0.12324044, 0.12324044, 0.12324044, 0.12324044,\n",
            "       0.12324044, 0.12324044, 0.12324044, 0.12324044, 0.12324044,\n",
            "       0.12324044, 0.12324044, 0.12324044, 0.12324044, 0.12324044,\n",
            "       0.12324044, 0.12324044, 0.12324044, 0.12324044, 0.12324044,\n",
            "       0.12324044, 0.12324044, 0.12324044, 0.12324044, 0.12324044,\n",
            "       0.12324044, 0.12324044, 0.12324044, 0.12324044, 0.12324044,\n",
            "       0.12324044, 0.12324044, 0.12324044, 0.12324044, 0.12324044,\n",
            "       0.12324044, 0.12324044, 0.12324044, 0.12324044, 0.12324044,\n",
            "       0.12324044, 0.12324044, 0.12324044, 0.12324044, 0.12324044,\n",
            "       0.12324044, 0.12324044, 0.12324044, 0.12324044, 0.12324044,\n",
            "       0.12324044, 0.12324044, 0.12324044, 0.12324044, 0.12324044,\n",
            "       0.12324044, 0.12324044, 0.12324044, 0.12324044, 0.12324044,\n",
            "       0.12324044, 0.12324044, 0.12324044, 0.12324044, 0.12324044,\n",
            "       0.12324044, 0.12324044, 0.12324044, 0.12324044, 0.12324044,\n",
            "       0.12324044, 0.12324044, 0.12324044, 0.12324044, 0.12324044,\n",
            "       0.12324044, 0.12324044, 0.12324044, 0.12324044, 0.12324044,\n",
            "       0.12324044, 0.12324044, 0.12324044, 0.12324044, 0.12324044,\n",
            "       0.12324044, 0.12324044, 0.12324044, 0.12324044, 0.12324044,\n",
            "       0.12324044, 0.12324044, 0.12324044, 0.12324044, 0.12324044,\n",
            "       0.12324044, 0.12324044, 0.12324044, 0.12324044, 0.12324044,\n",
            "       0.12324044, 0.12324044, 0.12324044, 0.12324044, 0.12324044,\n",
            "       0.12324044, 0.12324044, 0.12324044, 0.12324044, 0.12324044,\n",
            "       0.12324044, 0.12324044, 0.12324044, 0.12324044, 0.12324044,\n",
            "       0.12324044, 0.12324044, 0.12324044, 0.12324044, 0.12324044,\n",
            "       0.12324044, 0.12324044])\n",
            "\n",
            ".data =\n",
            "array([[ 1.09811008e+00,  9.21788932e-01, -1.23304348e+00, ...,\n",
            "         4.65985898e+00,  8.39030908e-01,  1.46559676e+00],\n",
            "       [ 7.21078610e-01,  6.06295040e-01,  1.79007972e+00, ...,\n",
            "        -2.14598769e-01, -5.66940602e-01, -5.19483104e-01],\n",
            "       [ 4.99625977e-02,  9.21788932e-01,  2.57022432e-02, ...,\n",
            "        -2.14598769e-01, -1.90776466e-01, -7.89585312e-02],\n",
            "       ...,\n",
            "       [-1.69192278e+00,  4.48548094e-01, -5.93003282e-01, ...,\n",
            "        -2.14598769e-01,  4.36163762e-01,  4.20302651e-01],\n",
            "       [ 5.92887911e-01,  5.88767602e-01,  6.31606964e-01, ...,\n",
            "        -2.14598769e-01,  7.88604060e-04,  1.24095283e-02],\n",
            "       [ 1.20367889e+00,  7.28987109e-01,  9.47360129e-01, ...,\n",
            "        -2.14598769e-01, -6.40083629e-01, -5.23833964e-01]])\n"
          ]
        },
        {
          "data": {
            "image/png": "[encoded data removed]",
            "text/plain": [
              "<Figure size 800x550 with 2 Axes>"
            ]
          },
          "metadata": {},
          "output_type": "display_data"
        }
      ],
      "source": [
        "lda.fit(X_train_scaled, y_train)\n",
        "\n",
        "# Create a SHAP explainer object\n",
        "explainer = shap.Explainer(lda, X_train_scaled)\n",
        "\n",
        "# Get SHAP values for the test set\n",
        "shap_values = explainer(X_test_scaled)\n",
        "print(shap_values)\n",
        "# Plot the SHAP summary plot (global explanation of the model)\n",
        "shap.summary_plot(shap_values, X_test_scaled)"
      ]
    },
    {
      "cell_type": "markdown",
      "metadata": {},
      "source": [
        "## Accuracy"
      ]
    },
    {
      "cell_type": "markdown",
      "metadata": {},
      "source": [
        "features from 0 - 9\n",
        "\n",
        "0 = high spped internet\n",
        "\n",
        "1 = employment\n",
        "\n",
        "2 = single family housing\n",
        "\n",
        "3 = residential occupancy\n",
        "\n",
        "4 = home ownership \n",
        "\n",
        "5 = vacant land in acres\n",
        "\n",
        "6 = proximity to public transportation\n",
        "\n",
        "7 = street connectivity index\n",
        "\n",
        "8 = proximity to school age care\n",
        "\n",
        "9 = proximity to early care and education"
      ]
    },
    {
      "cell_type": "code",
      "execution_count": 60,
      "metadata": {},
      "outputs": [],
      "source": [
        "dtree_9 = DecisionTreeClassifier(max_depth=9, random_state=100)\n",
        "log_reg = LogisticRegression()\n",
        "lda = LinearDiscriminantAnalysis()\n",
        "qda = QuadraticDiscriminantAnalysis()\n",
        "svm_lin = SVC(kernel='linear')\n",
        "svm_rbf = SVC(kernel='rbf')"
      ]
    },
    {
      "cell_type": "code",
      "execution_count": 61,
      "metadata": {},
      "outputs": [
        {
          "data": {
            "text/plain": [
              "('high_speed_internet_access_2022',\n",
              " 'employment_2022',\n",
              " 'single_family_housing_2022_Raw',\n",
              " 'residential_occupancy_2022',\n",
              " 'home_ownership_2022',\n",
              " 'vacant_land_in_acres_2022',\n",
              " 'proximity_to_public_transportation_2022',\n",
              " 'street_connectivity_index_2022',\n",
              " 'proximity_to_school_age_care_2022',\n",
              " 'proximity_to_early_care_and_education_2022')"
            ]
          },
          "execution_count": 61,
          "metadata": {},
          "output_type": "execute_result"
        }
      ],
      "source": [
        "'high_speed_internet_access_2022','employment_2022','single_family_housing_2022_Raw','residential_occupancy_2022','home_ownership_2022','vacant_land_in_acres_2022','proximity_to_public_transportation_2022','street_connectivity_index_2022','proximity_to_school_age_care_2022','proximity_to_early_care_and_education_2022'"
      ]
    },
    {
      "cell_type": "markdown",
      "metadata": {},
      "source": [
        "logisitic"
      ]
    },
    {
      "cell_type": "code",
      "execution_count": 62,
      "metadata": {},
      "outputs": [],
      "source": [
        "log_x = dataset[['home_ownership_2022','high_speed_internet_access_2022']]"
      ]
    },
    {
      "cell_type": "code",
      "execution_count": 63,
      "metadata": {},
      "outputs": [
        {
          "name": "stdout",
          "output_type": "stream",
          "text": [
            "logisitic cross-validation accuracy: 72.26%\n"
          ]
        }
      ],
      "source": [
        "log_reg.fit(X_train_scaled, y_train)\n",
        "\n",
        "\n",
        "accuracy = cross_val_score(log_reg, X_test_scaled, y_test, cv = 8)\n",
        "print(f\"logisitic cross-validation accuracy: {accuracy.mean() * 100:.2f}%\")"
      ]
    },
    {
      "cell_type": "code",
      "execution_count": 64,
      "metadata": {},
      "outputs": [
        {
          "name": "stdout",
          "output_type": "stream",
          "text": [
            "logisitic cross-validation accuracy: 76.72%\n"
          ]
        }
      ],
      "source": [
        "log_reg = LogisticRegression()\n",
        "\n",
        "\n",
        "X_train, X_test, y_train, y_test = train_test_split(log_x, y, test_size=0.3, random_state=100)\n",
        "\n",
        "# Standardize the dataset for models that are sensitive to feature scaling\n",
        "scaler = StandardScaler()\n",
        "X_train_scaled = scaler.fit_transform(X_train)\n",
        "X_test_scaled = scaler.transform(X_test)\n",
        "\n",
        "log_reg.fit(X_train_scaled, y_train)\n",
        "\n",
        "\n",
        "accuracy = cross_val_score(log_reg, X_test_scaled, y_test, cv = 8)\n",
        "print(f\"logisitic cross-validation accuracy: {accuracy.mean() * 100:.2f}%\")"
      ]
    },
    {
      "cell_type": "code",
      "execution_count": 65,
      "metadata": {},
      "outputs": [],
      "source": [
        "log_x = dataset[['home_ownership_2022','high_speed_internet_access_2022']]\n",
        "y = dataset['median_age_of_residents_2022_binary']"
      ]
    },
    {
      "cell_type": "code",
      "execution_count": 66,
      "metadata": {},
      "outputs": [
        {
          "name": "stdout",
          "output_type": "stream",
          "text": [
            "logisitic cross-validation accuracy: 76.72%\n"
          ]
        }
      ],
      "source": [
        "log_reg = LogisticRegression()\n",
        "\n",
        "\n",
        "X_train, X_test, y_train, y_test = train_test_split(log_x, y, test_size=0.3, random_state=100)\n",
        "\n",
        "# Standardize the dataset for models that are sensitive to feature scaling\n",
        "scaler = StandardScaler()\n",
        "X_train_scaled = scaler.fit_transform(X_train)\n",
        "X_test_scaled = scaler.transform(X_test)\n",
        "\n",
        "log_reg.fit(X_train_scaled, y_train)\n",
        "\n",
        "\n",
        "accuracy = cross_val_score(log_reg, X_test_scaled, y_test, cv = 8)\n",
        "print(f\"logisitic cross-validation accuracy: {accuracy.mean() * 100:.2f}%\")"
      ]
    },
    {
      "cell_type": "markdown",
      "metadata": {},
      "source": [
        "lda"
      ]
    },
    {
      "cell_type": "code",
      "execution_count": 67,
      "metadata": {},
      "outputs": [],
      "source": [
        "x = dataset[['high_speed_internet_access_2022','employment_2022','single_family_housing_2022_Raw','residential_occupancy_2022','home_ownership_2022','vacant_land_in_acres_2022','proximity_to_public_transportation_2022','street_connectivity_index_2022','proximity_to_school_age_care_2022','proximity_to_early_care_and_education_2022']]\n",
        "#y = dataset['median_age_of_residents_2022']"
      ]
    },
    {
      "cell_type": "code",
      "execution_count": 68,
      "metadata": {},
      "outputs": [
        {
          "name": "stdout",
          "output_type": "stream",
          "text": [
            "logisitic cross-validation accuracy: 72.30%\n"
          ]
        }
      ],
      "source": [
        "X_train, X_test, y_train, y_test = train_test_split(x, y, test_size=0.3, random_state=100)\n",
        "\n",
        "# Standardize the dataset for models that are sensitive to feature scaling\n",
        "scaler = StandardScaler()\n",
        "X_train_scaled = scaler.fit_transform(X_train)\n",
        "X_test_scaled = scaler.transform(X_test)\n",
        "\n",
        "lda.fit(X_train_scaled, y_train)\n",
        "\n",
        "\n",
        "accuracy = cross_val_score(lda, X_test_scaled, y_test, cv = 8)\n",
        "print(f\"logisitic cross-validation accuracy: {accuracy.mean() * 100:.2f}%\")"
      ]
    },
    {
      "cell_type": "code",
      "execution_count": 69,
      "metadata": {},
      "outputs": [],
      "source": [
        "#lda.fit(X_train_scaled, y_train)\n",
        "\n",
        "\n",
        "#accuracy = cross_val_score(lda, X_test_scaled, y_test, cv = 8)\n",
        "#print(f\"lda cross-validation accuracy: {accuracy.mean() * 100:.2f}%\")"
      ]
    },
    {
      "cell_type": "code",
      "execution_count": 70,
      "metadata": {},
      "outputs": [],
      "source": [
        "lda_x = dataset[['home_ownership_2022','high_speed_internet_access_2022']]"
      ]
    },
    {
      "cell_type": "code",
      "execution_count": 71,
      "metadata": {},
      "outputs": [
        {
          "name": "stdout",
          "output_type": "stream",
          "text": [
            "logisitic cross-validation accuracy: 76.72%\n"
          ]
        }
      ],
      "source": [
        "lda = LinearDiscriminantAnalysis()\n",
        "\n",
        "\n",
        "X_train, X_test, y_train, y_test = train_test_split(lda_x, y, test_size=0.3, random_state=100)\n",
        "\n",
        "# Standardize the dataset for models that are sensitive to feature scaling\n",
        "scaler = StandardScaler()\n",
        "X_train_scaled = scaler.fit_transform(X_train)\n",
        "X_test_scaled = scaler.transform(X_test)\n",
        "\n",
        "lda.fit(X_train_scaled, y_train)\n",
        "\n",
        "\n",
        "accuracy = cross_val_score(lda, X_test_scaled, y_test, cv = 8)\n",
        "print(f\"logisitic cross-validation accuracy: {accuracy.mean() * 100:.2f}%\")"
      ]
    },
    {
      "cell_type": "code",
      "execution_count": 72,
      "metadata": {},
      "outputs": [],
      "source": [
        "lda_x = dataset[['home_ownership_2022','high_speed_internet_access_2022','proximity_to_early_care_and_education_2022']]\n",
        "y = dataset['median_age_of_residents_2022_binary']"
      ]
    },
    {
      "cell_type": "code",
      "execution_count": 73,
      "metadata": {},
      "outputs": [
        {
          "name": "stdout",
          "output_type": "stream",
          "text": [
            "logisitic cross-validation accuracy: 76.72%\n"
          ]
        }
      ],
      "source": [
        "lda = LinearDiscriminantAnalysis()\n",
        "\n",
        "\n",
        "X_train, X_test, y_train, y_test = train_test_split(lda_x, y, test_size=0.3, random_state=100)\n",
        "\n",
        "# Standardize the dataset for models that are sensitive to feature scaling\n",
        "scaler = StandardScaler()\n",
        "X_train_scaled = scaler.fit_transform(X_train)\n",
        "X_test_scaled = scaler.transform(X_test)\n",
        "\n",
        "lda.fit(X_train_scaled, y_train)\n",
        "\n",
        "\n",
        "accuracy = cross_val_score(lda, X_test_scaled, y_test, cv = 8)\n",
        "print(f\"logisitic cross-validation accuracy: {accuracy.mean() * 100:.2f}%\")"
      ]
    },
    {
      "cell_type": "markdown",
      "metadata": {},
      "source": [
        "**svm_lin**"
      ]
    },
    {
      "cell_type": "code",
      "execution_count": 74,
      "metadata": {},
      "outputs": [],
      "source": [
        "x = dataset[['high_speed_internet_access_2022','employment_2022','single_family_housing_2022_Raw','residential_occupancy_2022','home_ownership_2022','vacant_land_in_acres_2022','proximity_to_public_transportation_2022','street_connectivity_index_2022','proximity_to_school_age_care_2022','proximity_to_early_care_and_education_2022']]\n"
      ]
    },
    {
      "cell_type": "code",
      "execution_count": 75,
      "metadata": {},
      "outputs": [
        {
          "name": "stdout",
          "output_type": "stream",
          "text": [
            "svm_lin cross-validation accuracy: 72.30%\n"
          ]
        }
      ],
      "source": [
        "X_train, X_test, y_train, y_test = train_test_split(x, y, test_size=0.3, random_state=100)\n",
        "\n",
        "# Standardize the dataset for models that are sensitive to feature scaling\n",
        "scaler = StandardScaler()\n",
        "X_train_scaled = scaler.fit_transform(X_train)\n",
        "X_test_scaled = scaler.transform(X_test)\n",
        "\n",
        "\n",
        "svm_lin.fit(X_train_scaled, y_train)\n",
        "\n",
        "\n",
        "accuracy = cross_val_score(svm_lin, X_test_scaled, y_test, cv = 8)\n",
        "print(f\"svm_lin cross-validation accuracy: {accuracy.mean() * 100:.2f}%\")"
      ]
    },
    {
      "cell_type": "code",
      "execution_count": 76,
      "metadata": {},
      "outputs": [],
      "source": [
        "svm_x = dataset[['home_ownership_2022','high_speed_internet_access_2022']]\n",
        "y = dataset['median_age_of_residents_2022_binary']"
      ]
    },
    {
      "cell_type": "code",
      "execution_count": 77,
      "metadata": {},
      "outputs": [
        {
          "name": "stdout",
          "output_type": "stream",
          "text": [
            "logisitic cross-validation accuracy: 76.72%\n"
          ]
        }
      ],
      "source": [
        "svm_lin = LogisticRegression()\n",
        "\n",
        "\n",
        "X_train, X_test, y_train, y_test = train_test_split(svm_x, y, test_size=0.3, random_state=100)\n",
        "\n",
        "# Standardize the dataset for models that are sensitive to feature scaling\n",
        "scaler = StandardScaler()\n",
        "X_train_scaled = scaler.fit_transform(X_train)\n",
        "X_test_scaled = scaler.transform(X_test)\n",
        "\n",
        "log_reg.fit(X_train_scaled, y_train)\n",
        "\n",
        "\n",
        "accuracy = cross_val_score(svm_lin, X_test_scaled, y_test, cv = 8)\n",
        "print(f\"logisitic cross-validation accuracy: {accuracy.mean() * 100:.2f}%\")"
      ]
    },
    {
      "cell_type": "markdown",
      "metadata": {},
      "source": [
        "**QDA:**"
      ]
    },
    {
      "cell_type": "code",
      "execution_count": 78,
      "metadata": {},
      "outputs": [],
      "source": [
        "qdaX = dataset[['high_speed_internet_access_2022','employment_2022','single_family_housing_2022_Raw','residential_occupancy_2022','home_ownership_2022','vacant_land_in_acres_2022','proximity_to_public_transportation_2022','street_connectivity_index_2022','proximity_to_school_age_care_2022','proximity_to_early_care_and_education_2022']]\n",
        "qday = dataset['median_age_of_residents_2022_binary']"
      ]
    },
    {
      "cell_type": "code",
      "execution_count": 79,
      "metadata": {},
      "outputs": [
        {
          "name": "stdout",
          "output_type": "stream",
          "text": [
            "qda cross-validation accuracy: 67.93%\n"
          ]
        }
      ],
      "source": [
        "qda = QuadraticDiscriminantAnalysis()\n",
        "\n",
        "\n",
        "X_train, X_test, y_train, y_test = train_test_split(qdaX, qday, test_size=0.3, random_state=100)\n",
        "\n",
        "# Standardize the dataset for models that are sensitive to feature scaling\n",
        "scaler = StandardScaler()\n",
        "X_train_scaled = scaler.fit_transform(X_train)\n",
        "X_test_scaled = scaler.transform(X_test)\n",
        "\n",
        "qda.fit(X_train_scaled, y_train)\n",
        "\n",
        "\n",
        "accuracy = cross_val_score(qda, X_test_scaled, y_test, cv = 8)\n",
        "print(f\"qda cross-validation accuracy: {accuracy.mean() * 100:.2f}%\")"
      ]
    },
    {
      "cell_type": "code",
      "execution_count": 80,
      "metadata": {},
      "outputs": [],
      "source": [
        "from sklearn.inspection import permutation_importance"
      ]
    },
    {
      "cell_type": "code",
      "execution_count": 81,
      "metadata": {},
      "outputs": [
        {
          "name": "stdout",
          "output_type": "stream",
          "text": [
            "Feature 1: 0.002\n",
            "Feature 2: -0.012\n",
            "Feature 3: -0.023\n",
            "Feature 4: -0.007\n",
            "Feature 5: 0.140\n",
            "Feature 6: 0.001\n",
            "Feature 7: 0.008\n",
            "Feature 8: 0.012\n",
            "Feature 9: 0.013\n",
            "Feature 10: 0.062\n"
          ]
        }
      ],
      "source": [
        "qda = QuadraticDiscriminantAnalysis()\n",
        "X_train, X_test, y_train, y_test = train_test_split(qdaX, qday, test_size=0.3, random_state=100)\n",
        "\n",
        "# Standardize the dataset for models that are sensitive to feature scaling\n",
        "scaler = StandardScaler()\n",
        "X_train_scaled = scaler.fit_transform(X_train)\n",
        "X_test_scaled = scaler.transform(X_test)\n",
        "\n",
        "qda.fit(X_train_scaled, y_train)\n",
        "\n",
        "result = permutation_importance(qda, X_test_scaled, y_test, n_repeats=10, random_state=42)\n",
        "\n",
        "# Print feature importances\n",
        "for i, importance in enumerate(result.importances_mean):\n",
        "    print(f\"Feature {i+1}: {importance:.3f}\")"
      ]
    },
    {
      "cell_type": "code",
      "execution_count": 82,
      "metadata": {},
      "outputs": [],
      "source": [
        "qdaX = dataset[['home_ownership_2022','high_speed_internet_access_2022']]\n",
        "qday = dataset['median_age_of_residents_2022_binary']\n"
      ]
    },
    {
      "cell_type": "code",
      "execution_count": 83,
      "metadata": {},
      "outputs": [
        {
          "name": "stdout",
          "output_type": "stream",
          "text": [
            "qda cross-validation accuracy: 76.76%\n"
          ]
        }
      ],
      "source": [
        "qda = QuadraticDiscriminantAnalysis()\n",
        "\n",
        "\n",
        "X_train, X_test, y_train, y_test = train_test_split(qdaX, qday, test_size=0.3, random_state=100)\n",
        "\n",
        "# Standardize the dataset for models that are sensitive to feature scaling\n",
        "scaler = StandardScaler()\n",
        "X_train_scaled = scaler.fit_transform(X_train)\n",
        "X_test_scaled = scaler.transform(X_test)\n",
        "\n",
        "qda.fit(X_train_scaled, y_train)\n",
        "\n",
        "\n",
        "accuracy = cross_val_score(qda, X_test_scaled, y_test, cv = 8)\n",
        "print(f\"qda cross-validation accuracy: {accuracy.mean() * 100:.2f}%\")"
      ]
    },
    {
      "cell_type": "markdown",
      "metadata": {},
      "source": [
        "**SVM_RBF:**"
      ]
    },
    {
      "cell_type": "code",
      "execution_count": 84,
      "metadata": {},
      "outputs": [],
      "source": [
        "svm_rbf_x = dataset[['high_speed_internet_access_2022','employment_2022','single_family_housing_2022_Raw','residential_occupancy_2022','home_ownership_2022','vacant_land_in_acres_2022','proximity_to_public_transportation_2022','street_connectivity_index_2022','proximity_to_school_age_care_2022','proximity_to_early_care_and_education_2022']]\n",
        "svm_rbf_y = dataset['median_age_of_residents_2022_binary']"
      ]
    },
    {
      "cell_type": "code",
      "execution_count": 85,
      "metadata": {},
      "outputs": [
        {
          "name": "stdout",
          "output_type": "stream",
          "text": [
            "SVM RBF cross-validation accuracy: 71.57%\n"
          ]
        }
      ],
      "source": [
        "svm_rbf = SVC(kernel='rbf')\n",
        "\n",
        "X_train, X_test, y_train, y_test = train_test_split(svm_rbf_x, svm_rbf_y, test_size=0.3, random_state=100)\n",
        "\n",
        "# Standardize the dataset for models that are sensitive to feature scaling\n",
        "scaler = StandardScaler()\n",
        "X_train_scaled = scaler.fit_transform(X_train)\n",
        "X_test_scaled = scaler.transform(X_test)\n",
        "\n",
        "svm_rbf.fit(X_train_scaled, y_train)\n",
        "\n",
        "\n",
        "accuracy = cross_val_score(svm_rbf, X_test_scaled, y_test, cv = 8)\n",
        "print(f\"SVM RBF cross-validation accuracy: {accuracy.mean() * 100:.2f}%\")"
      ]
    },
    {
      "cell_type": "code",
      "execution_count": 86,
      "metadata": {},
      "outputs": [
        {
          "name": "stdout",
          "output_type": "stream",
          "text": [
            "Feature 1: -0.019\n",
            "Feature 2: -0.002\n",
            "Feature 3: 0.031\n",
            "Feature 4: -0.016\n",
            "Feature 5: 0.139\n",
            "Feature 6: 0.009\n",
            "Feature 7: 0.010\n",
            "Feature 8: -0.004\n",
            "Feature 9: -0.020\n",
            "Feature 10: -0.018\n"
          ]
        }
      ],
      "source": [
        "svm_rbf = SVC(kernel='rbf')\n",
        "\n",
        "X_train, X_test, y_train, y_test = train_test_split(svm_rbf_x, svm_rbf_y, test_size=0.3, random_state=100)\n",
        "\n",
        "# Standardize the dataset for models that are sensitive to feature scaling\n",
        "scaler = StandardScaler()\n",
        "X_train_scaled = scaler.fit_transform(X_train)\n",
        "X_test_scaled = scaler.transform(X_test)\n",
        "\n",
        "svm_rbf.fit(X_train_scaled, y_train)\n",
        "\n",
        "result = permutation_importance(svm_rbf, X_test_scaled, y_test, n_repeats=10, random_state=42)\n",
        "\n",
        "# Print feature importances\n",
        "for i, importance in enumerate(result.importances_mean):\n",
        "    print(f\"Feature {i+1}: {importance:.3f}\")"
      ]
    },
    {
      "cell_type": "code",
      "execution_count": 87,
      "metadata": {},
      "outputs": [],
      "source": [
        "svm_rbf_x = dataset[['high_speed_internet_access_2022','home_ownership_2022','proximity_to_public_transportation_2022']]\n",
        "svm_rbf_y = dataset['median_age_of_residents_2022_binary']"
      ]
    },
    {
      "cell_type": "code",
      "execution_count": 88,
      "metadata": {},
      "outputs": [
        {
          "name": "stdout",
          "output_type": "stream",
          "text": [
            "SVM RBF cross-validation accuracy: 75.29%\n"
          ]
        }
      ],
      "source": [
        "svm_rbf = SVC(kernel='rbf')\n",
        "\n",
        "X_train, X_test, y_train, y_test = train_test_split(svm_rbf_x, svm_rbf_y, test_size=0.3, random_state=100)\n",
        "\n",
        "# Standardize the dataset for models that are sensitive to feature scaling\n",
        "scaler = StandardScaler()\n",
        "X_train_scaled = scaler.fit_transform(X_train)\n",
        "X_test_scaled = scaler.transform(X_test)\n",
        "\n",
        "svm_rbf.fit(X_train_scaled, y_train)\n",
        "\n",
        "\n",
        "accuracy = cross_val_score(svm_rbf, X_test_scaled, y_test, cv = 8)\n",
        "print(f\"SVM RBF cross-validation accuracy: {accuracy.mean() * 100:.2f}%\")"
      ]
    },
    {
      "cell_type": "markdown",
      "metadata": {},
      "source": [
        "**Decision Tree**"
      ]
    },
    {
      "cell_type": "code",
      "execution_count": 89,
      "metadata": {},
      "outputs": [],
      "source": [
        "dtreex = dataset[['high_speed_internet_access_2022','employment_2022','single_family_housing_2022_Raw','residential_occupancy_2022','home_ownership_2022','vacant_land_in_acres_2022','proximity_to_public_transportation_2022','street_connectivity_index_2022','proximity_to_school_age_care_2022','proximity_to_early_care_and_education_2022']]\n",
        "dtreey = dataset['median_age_of_residents_2022_binary']\n"
      ]
    },
    {
      "cell_type": "code",
      "execution_count": 90,
      "metadata": {},
      "outputs": [
        {
          "name": "stdout",
          "output_type": "stream",
          "text": [
            "SVM RBF cross-validation accuracy: 65.77%\n"
          ]
        }
      ],
      "source": [
        "dtree_9 = DecisionTreeClassifier(max_depth=4, random_state=100)\n",
        "\n",
        "X_train, X_test, y_train, y_test = train_test_split(dtreex, dtreey, test_size=0.3, random_state=100)\n",
        "\n",
        "# Standardize the dataset for models that are sensitive to feature scaling\n",
        "scaler = StandardScaler()\n",
        "X_train_scaled = scaler.fit_transform(X_train)\n",
        "X_test_scaled = scaler.transform(X_test)\n",
        "\n",
        "dtree_9.fit(X_train_scaled, y_train)\n",
        "\n",
        "\n",
        "accuracy = cross_val_score(dtree_9, X_test_scaled, y_test, cv = 8)\n",
        "print(f\"SVM RBF cross-validation accuracy: {accuracy.mean() * 100:.2f}%\")"
      ]
    },
    {
      "cell_type": "code",
      "execution_count": 91,
      "metadata": {},
      "outputs": [
        {
          "name": "stdout",
          "output_type": "stream",
          "text": [
            "Feature 1: 0.000\n",
            "Feature 2: 0.000\n",
            "Feature 3: 0.000\n",
            "Feature 4: 0.000\n",
            "Feature 5: 0.235\n",
            "Feature 6: 0.000\n",
            "Feature 7: 0.000\n",
            "Feature 8: 0.000\n",
            "Feature 9: 0.000\n",
            "Feature 10: 0.000\n"
          ]
        }
      ],
      "source": [
        "dtree_9 = DecisionTreeClassifier(max_depth=2, random_state=100)\n",
        "\n",
        "X_train, X_test, y_train, y_test = train_test_split(dtreex, dtreey, test_size=0.3, random_state=100)\n",
        "\n",
        "# Standardize the dataset for models that are sensitive to feature scaling\n",
        "scaler = StandardScaler()\n",
        "X_train_scaled = scaler.fit_transform(X_train)\n",
        "X_test_scaled = scaler.transform(X_test)\n",
        "\n",
        "dtree_9.fit(X_train_scaled, y_train)\n",
        "\n",
        "result = permutation_importance(dtree_9, X_test_scaled, y_test, n_repeats=10, random_state=42)\n",
        "\n",
        "# Print feature importances\n",
        "for i, importance in enumerate(result.importances_mean):\n",
        "    print(f\"Feature {i+1}: {importance:.3f}\")"
      ]
    },
    {
      "cell_type": "code",
      "execution_count": 92,
      "metadata": {},
      "outputs": [],
      "source": [
        "dtreex = dataset[['home_ownership_2022']]\n",
        "dtreey = dataset['median_age_of_residents_2022_binary']"
      ]
    },
    {
      "cell_type": "code",
      "execution_count": 93,
      "metadata": {},
      "outputs": [
        {
          "name": "stdout",
          "output_type": "stream",
          "text": [
            "SVM RBF cross-validation accuracy: 76.76%\n"
          ]
        }
      ],
      "source": [
        "dtree_9 = DecisionTreeClassifier(max_depth=2, random_state=100)\n",
        "\n",
        "X_train, X_test, y_train, y_test = train_test_split(dtreex, dtreey, test_size=0.3, random_state=100)\n",
        "\n",
        "# Standardize the dataset for models that are sensitive to feature scaling\n",
        "scaler = StandardScaler()\n",
        "X_train_scaled = scaler.fit_transform(X_train)\n",
        "X_test_scaled = scaler.transform(X_test)\n",
        "\n",
        "dtree_9.fit(X_train_scaled, y_train)\n",
        "\n",
        "\n",
        "accuracy = cross_val_score(dtree_9, X_test_scaled, y_test, cv = 8)\n",
        "print(f\"SVM RBF cross-validation accuracy: {accuracy.mean() * 100:.2f}%\")"
      ]
    },
    {
      "cell_type": "markdown",
      "metadata": {},
      "source": [
        "**KNN:**"
      ]
    },
    {
      "cell_type": "code",
      "execution_count": 94,
      "metadata": {},
      "outputs": [],
      "source": [
        "knn_x = dataset[['high_speed_internet_access_2022','employment_2022','single_family_housing_2022_Raw','residential_occupancy_2022','home_ownership_2022','vacant_land_in_acres_2022','proximity_to_public_transportation_2022','street_connectivity_index_2022','proximity_to_school_age_care_2022','proximity_to_early_care_and_education_2022']]\n",
        "knn_y = dataset['median_age_of_residents_2022_binary']"
      ]
    },
    {
      "cell_type": "code",
      "execution_count": 95,
      "metadata": {},
      "outputs": [
        {
          "name": "stdout",
          "output_type": "stream",
          "text": [
            "KNN cross-validation accuracy: 68.71%\n"
          ]
        }
      ],
      "source": [
        "knn = KNeighborsClassifier(n_neighbors=7)\n",
        "\n",
        "X_train, X_test, y_train, y_test = train_test_split(knn_x, knn_y, test_size=0.3, random_state=100)\n",
        "\n",
        "# Standardize the dataset for models that are sensitive to feature scaling\n",
        "scaler = StandardScaler()\n",
        "X_train_scaled = scaler.fit_transform(X_train)\n",
        "X_test_scaled = scaler.transform(X_test)\n",
        "\n",
        "knn.fit(X_train_scaled, y_train)\n",
        "\n",
        "\n",
        "accuracy = cross_val_score(knn, X_test_scaled, y_test, cv = 8)\n",
        "print(f\"KNN cross-validation accuracy: {accuracy.mean() * 100:.2f}%\")"
      ]
    },
    {
      "cell_type": "code",
      "execution_count": 96,
      "metadata": {},
      "outputs": [
        {
          "name": "stdout",
          "output_type": "stream",
          "text": [
            "Feature 1: 0.006\n",
            "Feature 2: 0.004\n",
            "Feature 3: 0.031\n",
            "Feature 4: -0.001\n",
            "Feature 5: 0.129\n",
            "Feature 6: 0.001\n",
            "Feature 7: 0.007\n",
            "Feature 8: -0.004\n",
            "Feature 9: -0.009\n",
            "Feature 10: 0.001\n"
          ]
        }
      ],
      "source": [
        "knn = KNeighborsClassifier(n_neighbors=15)\n",
        "\n",
        "X_train, X_test, y_train, y_test = train_test_split(knn_x, knn_y, test_size=0.3, random_state=100)\n",
        "\n",
        "# Standardize the dataset for models that are sensitive to feature scaling\n",
        "scaler = StandardScaler()\n",
        "X_train_scaled = scaler.fit_transform(X_train)\n",
        "X_test_scaled = scaler.transform(X_test)\n",
        "\n",
        "knn.fit(X_train_scaled, y_train)\n",
        "\n",
        "result = permutation_importance(knn, X_test_scaled, y_test, n_repeats=10, random_state=42)\n",
        "\n",
        "# Print feature importances\n",
        "for i, importance in enumerate(result.importances_mean):\n",
        "    print(f\"Feature {i+1}: {importance:.3f}\")"
      ]
    },
    {
      "cell_type": "code",
      "execution_count": 97,
      "metadata": {},
      "outputs": [],
      "source": [
        "knn_x = dataset[['high_speed_internet_access_2022','employment_2022','single_family_housing_2022_Raw','residential_occupancy_2022','home_ownership_2022','street_connectivity_index_2022','proximity_to_school_age_care_2022','proximity_to_early_care_and_education_2022']]\n",
        "knn_y = dataset['median_age_of_residents_2022_binary']"
      ]
    },
    {
      "cell_type": "code",
      "execution_count": 98,
      "metadata": {},
      "outputs": [],
      "source": [
        "knn_x = dataset[['high_speed_internet_access_2022','home_ownership_2022']]\n",
        "knn_y = dataset['median_age_of_residents_2022_binary']"
      ]
    },
    {
      "cell_type": "code",
      "execution_count": 99,
      "metadata": {},
      "outputs": [
        {
          "name": "stdout",
          "output_type": "stream",
          "text": [
            "KNN cross-validation accuracy: 78.92%\n"
          ]
        }
      ],
      "source": [
        "knn = KNeighborsClassifier(n_neighbors=15)\n",
        "\n",
        "X_train, X_test, y_train, y_test = train_test_split(knn_x, knn_y, test_size=0.3, random_state=100)\n",
        "\n",
        "# Standardize the dataset for models that are sensitive to feature scaling\n",
        "scaler = StandardScaler()\n",
        "X_train_scaled = scaler.fit_transform(X_train)\n",
        "X_test_scaled = scaler.transform(X_test)\n",
        "\n",
        "knn.fit(X_train_scaled, y_train)\n",
        "\n",
        "\n",
        "accuracy = cross_val_score(knn, X_test_scaled, y_test, cv = 8)\n",
        "print(f\"KNN cross-validation accuracy: {accuracy.mean() * 100:.2f}%\")"
      ]
    },
    {
      "cell_type": "code",
      "execution_count": 113,
      "metadata": {},
      "outputs": [
        {
          "data": {
            "image/png": "[encoded data removed]",
            "text/plain": [
              "<Figure size 640x480 with 2 Axes>"
            ]
          },
          "metadata": {},
          "output_type": "display_data"
        }
      ],
      "source": [
        "import matplotlib.pyplot as plt\n",
        "from sklearn.metrics import confusion_matrix, ConfusionMatrixDisplay\n",
        "\n",
        "# Assuming you have already trained your model and have the predicted labels `y_pred`\n",
        "y_pred = knn.predict(X_test_scaled)\n",
        "\n",
        "# Compute confusion matrix\n",
        "cm = confusion_matrix(y_test, y_pred)\n",
        "\n",
        "# Display confusion matrix\n",
        "cm_display = ConfusionMatrixDisplay(confusion_matrix=cm, display_labels=knn.classes_)\n",
        "cm_display.plot(cmap='Blues', values_format='d')\n",
        "\n",
        "# Add a title to the plot\n",
        "plt.title('KNN Confusion Matrix')\n",
        "plt.show()\n"
      ]
    },
    {
      "cell_type": "code",
      "execution_count": 114,
      "metadata": {},
      "outputs": [
        {
          "data": {
            "image/png": "[encoded data removed]",
            "text/plain": [
              "<Figure size 800x600 with 1 Axes>"
            ]
          },
          "metadata": {},
          "output_type": "display_data"
        }
      ],
      "source": [
        "import matplotlib.pyplot as plt\n",
        "from sklearn.neighbors import KNeighborsClassifier\n",
        "from sklearn.metrics import accuracy_score\n",
        "\n",
        "# List of k values to test\n",
        "k_values = [3, 5, 7, 9, 11, 13, 15, 19, 21, 23, 25]\n",
        "\n",
        "# List to store accuracy scores for each k\n",
        "accuracy_k = []\n",
        "\n",
        "# Loop through each k value, train the model, and store the accuracy\n",
        "for k in k_values:\n",
        "    # Initialize KNN classifier\n",
        "    knn = KNeighborsClassifier(n_neighbors=k)\n",
        "    \n",
        "    # Train the model\n",
        "    knn.fit(X_train_scaled, y_train)\n",
        "    \n",
        "    # Make predictions\n",
        "    knn_preds = knn.predict(X_test_scaled)\n",
        "    \n",
        "    # Calculate accuracy\n",
        "    accuracy = accuracy_score(y_test, knn_preds)\n",
        "    accuracy_k.append(accuracy)\n",
        "\n",
        "# Plotting the results\n",
        "plt.figure(figsize=(8, 6))\n",
        "plt.plot(k_values, accuracy_k, marker='o', linestyle='-', color='b')\n",
        "plt.title(\"KNN Accuracy vs k Values\")\n",
        "plt.xlabel(\"Number of Neighbors (k)\")\n",
        "plt.ylabel(\"Accuracy\")\n",
        "plt.xticks(k_values)  # Ensure that all k-values are labeled on the x-axis\n",
        "plt.grid(True)\n",
        "plt.show()\n"
      ]
    },
    {
      "cell_type": "code",
      "execution_count": 100,
      "metadata": {},
      "outputs": [],
      "source": [
        "knn_x = dataset[['high_speed_internet_access_2022','home_ownership_2022']]\n",
        "knn_y = dataset['median_age_of_residents_2022_binary']"
      ]
    },
    {
      "cell_type": "code",
      "execution_count": 101,
      "metadata": {},
      "outputs": [
        {
          "name": "stdout",
          "output_type": "stream",
          "text": [
            "KNN cross-validation accuracy: 78.92%\n"
          ]
        }
      ],
      "source": [
        "knn = KNeighborsClassifier(n_neighbors=15)\n",
        "\n",
        "X_train, X_test, y_train, y_test = train_test_split(knn_x, knn_y, test_size=0.3, random_state=100)\n",
        "\n",
        "# Standardize the dataset for models that are sensitive to feature scaling\n",
        "scaler = StandardScaler()\n",
        "X_train_scaled = scaler.fit_transform(X_train)\n",
        "X_test_scaled = scaler.transform(X_test)\n",
        "\n",
        "knn.fit(X_train_scaled, y_train)\n",
        "\n",
        "\n",
        "accuracy = cross_val_score(knn, X_test_scaled, y_test, cv = 8)\n",
        "print(f\"KNN cross-validation accuracy: {accuracy.mean() * 100:.2f}%\")"
      ]
    },
    {
      "cell_type": "code",
      "execution_count": 102,
      "metadata": {},
      "outputs": [
        {
          "data": {
            "text/html": [
              "<style>#sk-container-id-1 {color: black;}#sk-container-id-1 pre{padding: 0;}#sk-container-id-1 div.sk-toggleable {background-color: white;}#sk-container-id-1 label.sk-toggleable__label {cursor: pointer;display: block;width: 100%;margin-bottom: 0;padding: 0.3em;box-sizing: border-box;text-align: center;}#sk-container-id-1 label.sk-toggleable__label-arrow:before {content: \"▸\";float: left;margin-right: 0.25em;color: #696969;}#sk-container-id-1 label.sk-toggleable__label-arrow:hover:before {color: black;}#sk-container-id-1 div.sk-estimator:hover label.sk-toggleable__label-arrow:before {color: black;}#sk-container-id-1 div.sk-toggleable__content {max-height: 0;max-width: 0;overflow: hidden;text-align: left;background-color: #f0f8ff;}#sk-container-id-1 div.sk-toggleable__content pre {margin: 0.2em;color: black;border-radius: 0.25em;background-color: #f0f8ff;}#sk-container-id-1 input.sk-toggleable__control:checked~div.sk-toggleable__content {max-height: 200px;max-width: 100%;overflow: auto;}#sk-container-id-1 input.sk-toggleable__control:checked~label.sk-toggleable__label-arrow:before {content: \"▾\";}#sk-container-id-1 div.sk-estimator input.sk-toggleable__control:checked~label.sk-toggleable__label {background-color: #d4ebff;}#sk-container-id-1 div.sk-label input.sk-toggleable__control:checked~label.sk-toggleable__label {background-color: #d4ebff;}#sk-container-id-1 input.sk-hidden--visually {border: 0;clip: rect(1px 1px 1px 1px);clip: rect(1px, 1px, 1px, 1px);height: 1px;margin: -1px;overflow: hidden;padding: 0;position: absolute;width: 1px;}#sk-container-id-1 div.sk-estimator {font-family: monospace;background-color: #f0f8ff;border: 1px dotted black;border-radius: 0.25em;box-sizing: border-box;margin-bottom: 0.5em;}#sk-container-id-1 div.sk-estimator:hover {background-color: #d4ebff;}#sk-container-id-1 div.sk-parallel-item::after {content: \"\";width: 100%;border-bottom: 1px solid gray;flex-grow: 1;}#sk-container-id-1 div.sk-label:hover label.sk-toggleable__label {background-color: #d4ebff;}#sk-container-id-1 div.sk-serial::before {content: \"\";position: absolute;border-left: 1px solid gray;box-sizing: border-box;top: 0;bottom: 0;left: 50%;z-index: 0;}#sk-container-id-1 div.sk-serial {display: flex;flex-direction: column;align-items: center;background-color: white;padding-right: 0.2em;padding-left: 0.2em;position: relative;}#sk-container-id-1 div.sk-item {position: relative;z-index: 1;}#sk-container-id-1 div.sk-parallel {display: flex;align-items: stretch;justify-content: center;background-color: white;position: relative;}#sk-container-id-1 div.sk-item::before, #sk-container-id-1 div.sk-parallel-item::before {content: \"\";position: absolute;border-left: 1px solid gray;box-sizing: border-box;top: 0;bottom: 0;left: 50%;z-index: -1;}#sk-container-id-1 div.sk-parallel-item {display: flex;flex-direction: column;z-index: 1;position: relative;background-color: white;}#sk-container-id-1 div.sk-parallel-item:first-child::after {align-self: flex-end;width: 50%;}#sk-container-id-1 div.sk-parallel-item:last-child::after {align-self: flex-start;width: 50%;}#sk-container-id-1 div.sk-parallel-item:only-child::after {width: 0;}#sk-container-id-1 div.sk-dashed-wrapped {border: 1px dashed gray;margin: 0 0.4em 0.5em 0.4em;box-sizing: border-box;padding-bottom: 0.4em;background-color: white;}#sk-container-id-1 div.sk-label label {font-family: monospace;font-weight: bold;display: inline-block;line-height: 1.2em;}#sk-container-id-1 div.sk-label-container {text-align: center;}#sk-container-id-1 div.sk-container {/* jupyter's `normalize.less` sets `[hidden] { display: none; }` but bootstrap.min.css set `[hidden] { display: none !important; }` so we also need the `!important` here to be able to override the default hidden behavior on the sphinx rendered scikit-learn.org. See: https://github.com/scikit-learn/scikit-learn/issues/21755 */display: inline-block !important;position: relative;}#sk-container-id-1 div.sk-text-repr-fallback {display: none;}</style><div id=\"sk-container-id-1\" class=\"sk-top-container\"><div class=\"sk-text-repr-fallback\"><pre>KNeighborsClassifier(n_neighbors=15)</pre><b>In a Jupyter environment, please rerun this cell to show the HTML representation or trust the notebook. <br />On GitHub, the HTML representation is unable to render, please try loading this page with nbviewer.org.</b></div><div class=\"sk-container\" hidden><div class=\"sk-item\"><div class=\"sk-estimator sk-toggleable\"><input class=\"sk-toggleable__control sk-hidden--visually\" id=\"sk-estimator-id-1\" type=\"checkbox\" checked><label for=\"sk-estimator-id-1\" class=\"sk-toggleable__label sk-toggleable__label-arrow\">KNeighborsClassifier</label><div class=\"sk-toggleable__content\"><pre>KNeighborsClassifier(n_neighbors=15)</pre></div></div></div></div></div>"
            ],
            "text/plain": [
              "KNeighborsClassifier(n_neighbors=15)"
            ]
          },
          "execution_count": 102,
          "metadata": {},
          "output_type": "execute_result"
        }
      ],
      "source": [
        "knn = KNeighborsClassifier(n_neighbors=15)\n",
        "\n",
        "X_train, X_test, y_train, y_test = train_test_split(knn_x, knn_y, test_size=0.3, random_state=100)\n",
        "\n",
        "# Standardize the dataset for models that are sensitive to feature scaling\n",
        "scaler = StandardScaler()\n",
        "X_train_scaled = scaler.fit_transform(X_train)\n",
        "X_test_scaled = scaler.transform(X_test)\n",
        "\n",
        "knn.fit(X_train_scaled, y_train)"
      ]
    },
    {
      "cell_type": "code",
      "execution_count": 103,
      "metadata": {},
      "outputs": [
        {
          "name": "stdout",
          "output_type": "stream",
          "text": [
            "Accuracy: 77.3723%\n"
          ]
        }
      ],
      "source": [
        "y_true = y_test\n",
        "y_pred = knn.predict(X_test_scaled)\n",
        "\n",
        "accuracy = accuracy_score(y_true, y_pred)\n",
        "print(f\"Accuracy: {accuracy * 100:.4f}%\")"
      ]
    },
    {
      "cell_type": "code",
      "execution_count": 104,
      "metadata": {},
      "outputs": [],
      "source": [
        "knn_x = dataset[['high_speed_internet_access_2022','home_ownership_2022']]\n",
        "knn_y = dataset['median_age_of_residents_2022_binary']"
      ]
    },
    {
      "cell_type": "code",
      "execution_count": 105,
      "metadata": {},
      "outputs": [
        {
          "name": "stdout",
          "output_type": "stream",
          "text": [
            "Accuracy: 77.3723%\n",
            "KNN cross-validation accuracy: 78.92%\n"
          ]
        }
      ],
      "source": [
        "knn = KNeighborsClassifier(n_neighbors=15)\n",
        "\n",
        "X_train, X_test, y_train, y_test = train_test_split(knn_x, knn_y, test_size=0.3, random_state=100)\n",
        "\n",
        "# Standardize the dataset for models that are sensitive to feature scaling\n",
        "scaler = StandardScaler()\n",
        "X_train_scaled = scaler.fit_transform(X_train)\n",
        "X_test_scaled = scaler.transform(X_test)\n",
        "\n",
        "knn.fit(X_train_scaled, y_train)\n",
        "\n",
        "y_true = y_test\n",
        "y_pred = knn.predict(X_test_scaled)\n",
        "\n",
        "accuracy = accuracy_score(y_true, y_pred)\n",
        "print(f\"Accuracy: {accuracy * 100:.4f}%\")\n",
        "\n",
        "\n",
        "accuracy = cross_val_score(knn, X_test_scaled, y_test, cv = 8)\n",
        "print(f\"KNN cross-validation accuracy: {accuracy.mean() * 100:.2f}%\")"
      ]
    },
    {
      "cell_type": "code",
      "execution_count": 106,
      "metadata": {},
      "outputs": [],
      "source": [
        "knn_x = dataset[['high_speed_internet_access_2022','home_ownership_2022','single_family_housing_2022_Raw','proximity_to_public_transportation_2022']]\n",
        "knn_y = dataset['median_age_of_residents_2022_binary']"
      ]
    },
    {
      "cell_type": "code",
      "execution_count": 107,
      "metadata": {},
      "outputs": [
        {
          "name": "stdout",
          "output_type": "stream",
          "text": [
            "Accuracy: 75.9124%\n",
            "KNN cross-validation accuracy: 73.82%\n"
          ]
        }
      ],
      "source": [
        "knn = KNeighborsClassifier(n_neighbors=59)\n",
        "\n",
        "X_train, X_test, y_train, y_test = train_test_split(knn_x, knn_y, test_size=0.3, random_state=100)\n",
        "\n",
        "# Standardize the dataset for models that are sensitive to feature scaling\n",
        "scaler = StandardScaler()\n",
        "X_train_scaled = scaler.fit_transform(X_train)\n",
        "X_test_scaled = scaler.transform(X_test)\n",
        "\n",
        "knn.fit(X_train_scaled, y_train)\n",
        "\n",
        "y_true = y_test\n",
        "y_pred = knn.predict(X_test_scaled)\n",
        "\n",
        "accuracy = accuracy_score(y_true, y_pred)\n",
        "print(f\"Accuracy: {accuracy * 100:.4f}%\")\n",
        "\n",
        "\n",
        "accuracy = cross_val_score(knn, X_test_scaled, y_test, cv = 8)\n",
        "print(f\"KNN cross-validation accuracy: {accuracy.mean() * 100:.2f}%\")"
      ]
    },
    {
      "cell_type": "markdown",
      "metadata": {},
      "source": [
        "**FINAL MODEL KNN:**"
      ]
    },
    {
      "cell_type": "code",
      "execution_count": 108,
      "metadata": {},
      "outputs": [],
      "source": [
        "knn_x = dataset[['high_speed_internet_access_2022','home_ownership_2022']]\n",
        "knn_y = dataset['median_age_of_residents_2022_binary']"
      ]
    },
    {
      "cell_type": "code",
      "execution_count": 109,
      "metadata": {},
      "outputs": [
        {
          "name": "stdout",
          "output_type": "stream",
          "text": [
            "Accuracy: 77.3723%\n",
            "KNN cross-validation accuracy: 78.92%\n"
          ]
        }
      ],
      "source": [
        "knn = KNeighborsClassifier(n_neighbors=15)\n",
        "\n",
        "X_train, X_test, y_train, y_test = train_test_split(knn_x, knn_y, test_size=0.3, random_state=100)\n",
        "\n",
        "# Standardize the dataset for models that are sensitive to feature scaling\n",
        "scaler = StandardScaler()\n",
        "X_train_scaled = scaler.fit_transform(X_train)\n",
        "X_test_scaled = scaler.transform(X_test)\n",
        "\n",
        "knn.fit(X_train_scaled, y_train)\n",
        "\n",
        "y_true = y_test\n",
        "y_pred = knn.predict(X_test_scaled)\n",
        "\n",
        "accuracy = accuracy_score(y_true, y_pred)\n",
        "print(f\"Accuracy: {accuracy * 100:.4f}%\")\n",
        "\n",
        "\n",
        "accuracy = cross_val_score(knn, X_test_scaled, y_test, cv = 8)\n",
        "print(f\"KNN cross-validation accuracy: {accuracy.mean() * 100:.2f}%\")"
      ]
    }
  ],
  "metadata": {
    "colab": {
      "provenance": []
    },
    "kernelspec": {
      "display_name": "Python 3",
      "name": "python3"
    },
    "language_info": {
      "codemirror_mode": {
        "name": "ipython",
        "version": 3
      },
      "file_extension": ".py",
      "mimetype": "text/x-python",
      "name": "python",
      "nbconvert_exporter": "python",
      "pygments_lexer": "ipython3",
      "version": "3.12.10"
    }
  },
  "nbformat": 4,
  "nbformat_minor": 0
}
